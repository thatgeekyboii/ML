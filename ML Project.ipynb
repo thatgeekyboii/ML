{
 "cells": [
  {
   "cell_type": "code",
   "execution_count": 8,
   "id": "63f9f310",
   "metadata": {},
   "outputs": [],
   "source": [
    "    #Importing required libraries\n",
    "import pandas as pd\n",
    "import numpy as np\n",
    "import matplotlib.pyplot as plt\n",
    "from sklearn.preprocessing import LabelEncoder\n",
    "import seaborn as sns\n",
    "from scipy import stats\n",
    "import warnings\n",
    "warnings.filterwarnings('ignore')"
   ]
  },
  {
   "cell_type": "code",
   "execution_count": 13,
   "id": "2b9ebc07",
   "metadata": {},
   "outputs": [
    {
     "data": {
      "text/html": [
       "<div>\n",
       "<style scoped>\n",
       "    .dataframe tbody tr th:only-of-type {\n",
       "        vertical-align: middle;\n",
       "    }\n",
       "\n",
       "    .dataframe tbody tr th {\n",
       "        vertical-align: top;\n",
       "    }\n",
       "\n",
       "    .dataframe thead th {\n",
       "        text-align: right;\n",
       "    }\n",
       "</style>\n",
       "<table border=\"1\" class=\"dataframe\">\n",
       "  <thead>\n",
       "    <tr style=\"text-align: right;\">\n",
       "      <th></th>\n",
       "      <th>Flow ID</th>\n",
       "      <th>Src IP</th>\n",
       "      <th>Src Port</th>\n",
       "      <th>Dst IP</th>\n",
       "      <th>Dst Port</th>\n",
       "      <th>Protocol</th>\n",
       "      <th>Timestamp</th>\n",
       "      <th>Flow Duration</th>\n",
       "      <th>Total Fwd Packet</th>\n",
       "      <th>Total Bwd packets</th>\n",
       "      <th>...</th>\n",
       "      <th>Active Mean</th>\n",
       "      <th>Active Std</th>\n",
       "      <th>Active Max</th>\n",
       "      <th>Active Min</th>\n",
       "      <th>Idle Mean</th>\n",
       "      <th>Idle Std</th>\n",
       "      <th>Idle Max</th>\n",
       "      <th>Idle Min</th>\n",
       "      <th>Label</th>\n",
       "      <th>Label.1</th>\n",
       "    </tr>\n",
       "  </thead>\n",
       "  <tbody>\n",
       "    <tr>\n",
       "      <th>0</th>\n",
       "      <td>10.152.152.11-216.58.220.99-57158-443-6</td>\n",
       "      <td>10.152.152.11</td>\n",
       "      <td>57158</td>\n",
       "      <td>216.58.220.99</td>\n",
       "      <td>443</td>\n",
       "      <td>6</td>\n",
       "      <td>24/07/2015 04:09:48 PM</td>\n",
       "      <td>229</td>\n",
       "      <td>1</td>\n",
       "      <td>1</td>\n",
       "      <td>...</td>\n",
       "      <td>0</td>\n",
       "      <td>0</td>\n",
       "      <td>0</td>\n",
       "      <td>0</td>\n",
       "      <td>0.000000e+00</td>\n",
       "      <td>0.000000e+00</td>\n",
       "      <td>0.000000e+00</td>\n",
       "      <td>0.000000e+00</td>\n",
       "      <td>Non-Tor</td>\n",
       "      <td>AUDIO-STREAMING</td>\n",
       "    </tr>\n",
       "    <tr>\n",
       "      <th>1</th>\n",
       "      <td>10.152.152.11-216.58.220.99-57159-443-6</td>\n",
       "      <td>10.152.152.11</td>\n",
       "      <td>57159</td>\n",
       "      <td>216.58.220.99</td>\n",
       "      <td>443</td>\n",
       "      <td>6</td>\n",
       "      <td>24/07/2015 04:09:48 PM</td>\n",
       "      <td>407</td>\n",
       "      <td>1</td>\n",
       "      <td>1</td>\n",
       "      <td>...</td>\n",
       "      <td>0</td>\n",
       "      <td>0</td>\n",
       "      <td>0</td>\n",
       "      <td>0</td>\n",
       "      <td>0.000000e+00</td>\n",
       "      <td>0.000000e+00</td>\n",
       "      <td>0.000000e+00</td>\n",
       "      <td>0.000000e+00</td>\n",
       "      <td>Non-Tor</td>\n",
       "      <td>AUDIO-STREAMING</td>\n",
       "    </tr>\n",
       "    <tr>\n",
       "      <th>2</th>\n",
       "      <td>10.152.152.11-216.58.220.99-57160-443-6</td>\n",
       "      <td>10.152.152.11</td>\n",
       "      <td>57160</td>\n",
       "      <td>216.58.220.99</td>\n",
       "      <td>443</td>\n",
       "      <td>6</td>\n",
       "      <td>24/07/2015 04:09:48 PM</td>\n",
       "      <td>431</td>\n",
       "      <td>1</td>\n",
       "      <td>1</td>\n",
       "      <td>...</td>\n",
       "      <td>0</td>\n",
       "      <td>0</td>\n",
       "      <td>0</td>\n",
       "      <td>0</td>\n",
       "      <td>0.000000e+00</td>\n",
       "      <td>0.000000e+00</td>\n",
       "      <td>0.000000e+00</td>\n",
       "      <td>0.000000e+00</td>\n",
       "      <td>Non-Tor</td>\n",
       "      <td>AUDIO-STREAMING</td>\n",
       "    </tr>\n",
       "    <tr>\n",
       "      <th>3</th>\n",
       "      <td>10.152.152.11-74.125.136.120-49134-443-6</td>\n",
       "      <td>10.152.152.11</td>\n",
       "      <td>49134</td>\n",
       "      <td>74.125.136.120</td>\n",
       "      <td>443</td>\n",
       "      <td>6</td>\n",
       "      <td>24/07/2015 04:09:48 PM</td>\n",
       "      <td>359</td>\n",
       "      <td>1</td>\n",
       "      <td>1</td>\n",
       "      <td>...</td>\n",
       "      <td>0</td>\n",
       "      <td>0</td>\n",
       "      <td>0</td>\n",
       "      <td>0</td>\n",
       "      <td>0.000000e+00</td>\n",
       "      <td>0.000000e+00</td>\n",
       "      <td>0.000000e+00</td>\n",
       "      <td>0.000000e+00</td>\n",
       "      <td>Non-Tor</td>\n",
       "      <td>AUDIO-STREAMING</td>\n",
       "    </tr>\n",
       "    <tr>\n",
       "      <th>4</th>\n",
       "      <td>10.152.152.11-173.194.65.127-34697-19305-6</td>\n",
       "      <td>10.152.152.11</td>\n",
       "      <td>34697</td>\n",
       "      <td>173.194.65.127</td>\n",
       "      <td>19305</td>\n",
       "      <td>6</td>\n",
       "      <td>24/07/2015 04:09:45 PM</td>\n",
       "      <td>10778451</td>\n",
       "      <td>591</td>\n",
       "      <td>400</td>\n",
       "      <td>...</td>\n",
       "      <td>0</td>\n",
       "      <td>0</td>\n",
       "      <td>0</td>\n",
       "      <td>0</td>\n",
       "      <td>1.437765e+15</td>\n",
       "      <td>3.117718e+06</td>\n",
       "      <td>1.437765e+15</td>\n",
       "      <td>1.437765e+15</td>\n",
       "      <td>Non-Tor</td>\n",
       "      <td>AUDIO-STREAMING</td>\n",
       "    </tr>\n",
       "  </tbody>\n",
       "</table>\n",
       "<p>5 rows × 85 columns</p>\n",
       "</div>"
      ],
      "text/plain": [
       "                                      Flow ID         Src IP  Src Port  \\\n",
       "0     10.152.152.11-216.58.220.99-57158-443-6  10.152.152.11     57158   \n",
       "1     10.152.152.11-216.58.220.99-57159-443-6  10.152.152.11     57159   \n",
       "2     10.152.152.11-216.58.220.99-57160-443-6  10.152.152.11     57160   \n",
       "3    10.152.152.11-74.125.136.120-49134-443-6  10.152.152.11     49134   \n",
       "4  10.152.152.11-173.194.65.127-34697-19305-6  10.152.152.11     34697   \n",
       "\n",
       "           Dst IP  Dst Port  Protocol               Timestamp  Flow Duration  \\\n",
       "0   216.58.220.99       443         6  24/07/2015 04:09:48 PM            229   \n",
       "1   216.58.220.99       443         6  24/07/2015 04:09:48 PM            407   \n",
       "2   216.58.220.99       443         6  24/07/2015 04:09:48 PM            431   \n",
       "3  74.125.136.120       443         6  24/07/2015 04:09:48 PM            359   \n",
       "4  173.194.65.127     19305         6  24/07/2015 04:09:45 PM       10778451   \n",
       "\n",
       "   Total Fwd Packet  Total Bwd packets  ...  Active Mean  Active Std  \\\n",
       "0                 1                  1  ...            0           0   \n",
       "1                 1                  1  ...            0           0   \n",
       "2                 1                  1  ...            0           0   \n",
       "3                 1                  1  ...            0           0   \n",
       "4               591                400  ...            0           0   \n",
       "\n",
       "   Active Max  Active Min     Idle Mean      Idle Std      Idle Max  \\\n",
       "0           0           0  0.000000e+00  0.000000e+00  0.000000e+00   \n",
       "1           0           0  0.000000e+00  0.000000e+00  0.000000e+00   \n",
       "2           0           0  0.000000e+00  0.000000e+00  0.000000e+00   \n",
       "3           0           0  0.000000e+00  0.000000e+00  0.000000e+00   \n",
       "4           0           0  1.437765e+15  3.117718e+06  1.437765e+15   \n",
       "\n",
       "       Idle Min    Label          Label.1  \n",
       "0  0.000000e+00  Non-Tor  AUDIO-STREAMING  \n",
       "1  0.000000e+00  Non-Tor  AUDIO-STREAMING  \n",
       "2  0.000000e+00  Non-Tor  AUDIO-STREAMING  \n",
       "3  0.000000e+00  Non-Tor  AUDIO-STREAMING  \n",
       "4  1.437765e+15  Non-Tor  AUDIO-STREAMING  \n",
       "\n",
       "[5 rows x 85 columns]"
      ]
     },
     "execution_count": 13,
     "metadata": {},
     "output_type": "execute_result"
    }
   ],
   "source": [
    "# reading dataset\n",
    "data = pd.read_csv('/Users/vaibhav/Downloads/Darknet.csv', on_bad_lines='skip')\n",
    "\n",
    "data.head()"
   ]
  },
  {
   "cell_type": "code",
   "execution_count": 14,
   "id": "2ea1f0e4",
   "metadata": {},
   "outputs": [
    {
     "data": {
      "text/plain": [
       "Index(['Flow ID', 'Src IP', 'Src Port', 'Dst IP', 'Dst Port', 'Protocol',\n",
       "       'Timestamp', 'Flow Duration', 'Total Fwd Packet', 'Total Bwd packets',\n",
       "       'Total Length of Fwd Packet', 'Total Length of Bwd Packet',\n",
       "       'Fwd Packet Length Max', 'Fwd Packet Length Min',\n",
       "       'Fwd Packet Length Mean', 'Fwd Packet Length Std',\n",
       "       'Bwd Packet Length Max', 'Bwd Packet Length Min',\n",
       "       'Bwd Packet Length Mean', 'Bwd Packet Length Std', 'Flow Bytes/s',\n",
       "       'Flow Packets/s', 'Flow IAT Mean', 'Flow IAT Std', 'Flow IAT Max',\n",
       "       'Flow IAT Min', 'Fwd IAT Total', 'Fwd IAT Mean', 'Fwd IAT Std',\n",
       "       'Fwd IAT Max', 'Fwd IAT Min', 'Bwd IAT Total', 'Bwd IAT Mean',\n",
       "       'Bwd IAT Std', 'Bwd IAT Max', 'Bwd IAT Min', 'Fwd PSH Flags',\n",
       "       'Bwd PSH Flags', 'Fwd URG Flags', 'Bwd URG Flags', 'Fwd Header Length',\n",
       "       'Bwd Header Length', 'Fwd Packets/s', 'Bwd Packets/s',\n",
       "       'Packet Length Min', 'Packet Length Max', 'Packet Length Mean',\n",
       "       'Packet Length Std', 'Packet Length Variance', 'FIN Flag Count',\n",
       "       'SYN Flag Count', 'RST Flag Count', 'PSH Flag Count', 'ACK Flag Count',\n",
       "       'URG Flag Count', 'CWE Flag Count', 'ECE Flag Count', 'Down/Up Ratio',\n",
       "       'Average Packet Size', 'Fwd Segment Size Avg', 'Bwd Segment Size Avg',\n",
       "       'Fwd Bytes/Bulk Avg', 'Fwd Packet/Bulk Avg', 'Fwd Bulk Rate Avg',\n",
       "       'Bwd Bytes/Bulk Avg', 'Bwd Packet/Bulk Avg', 'Bwd Bulk Rate Avg',\n",
       "       'Subflow Fwd Packets', 'Subflow Fwd Bytes', 'Subflow Bwd Packets',\n",
       "       'Subflow Bwd Bytes', 'FWD Init Win Bytes', 'Bwd Init Win Bytes',\n",
       "       'Fwd Act Data Pkts', 'Fwd Seg Size Min', 'Active Mean', 'Active Std',\n",
       "       'Active Max', 'Active Min', 'Idle Mean', 'Idle Std', 'Idle Max',\n",
       "       'Idle Min', 'Label', 'Label.1'],\n",
       "      dtype='object')"
      ]
     },
     "execution_count": 14,
     "metadata": {},
     "output_type": "execute_result"
    }
   ],
   "source": [
    "data.columns"
   ]
  },
  {
   "cell_type": "code",
   "execution_count": 15,
   "id": "c429614c",
   "metadata": {},
   "outputs": [
    {
     "data": {
      "text/html": [
       "<div>\n",
       "<style scoped>\n",
       "    .dataframe tbody tr th:only-of-type {\n",
       "        vertical-align: middle;\n",
       "    }\n",
       "\n",
       "    .dataframe tbody tr th {\n",
       "        vertical-align: top;\n",
       "    }\n",
       "\n",
       "    .dataframe thead th {\n",
       "        text-align: right;\n",
       "    }\n",
       "</style>\n",
       "<table border=\"1\" class=\"dataframe\">\n",
       "  <thead>\n",
       "    <tr style=\"text-align: right;\">\n",
       "      <th></th>\n",
       "      <th>Src Port</th>\n",
       "      <th>Dst Port</th>\n",
       "      <th>Protocol</th>\n",
       "      <th>Flow Duration</th>\n",
       "      <th>Total Fwd Packet</th>\n",
       "      <th>Total Bwd packets</th>\n",
       "      <th>Total Length of Fwd Packet</th>\n",
       "      <th>Total Length of Bwd Packet</th>\n",
       "      <th>Fwd Packet Length Max</th>\n",
       "      <th>Fwd Packet Length Min</th>\n",
       "      <th>...</th>\n",
       "      <th>Fwd Act Data Pkts</th>\n",
       "      <th>Fwd Seg Size Min</th>\n",
       "      <th>Active Mean</th>\n",
       "      <th>Active Std</th>\n",
       "      <th>Active Max</th>\n",
       "      <th>Active Min</th>\n",
       "      <th>Idle Mean</th>\n",
       "      <th>Idle Std</th>\n",
       "      <th>Idle Max</th>\n",
       "      <th>Idle Min</th>\n",
       "    </tr>\n",
       "  </thead>\n",
       "  <tbody>\n",
       "    <tr>\n",
       "      <th>count</th>\n",
       "      <td>141530.000000</td>\n",
       "      <td>141530.000000</td>\n",
       "      <td>141530.000000</td>\n",
       "      <td>1.415300e+05</td>\n",
       "      <td>141530.000000</td>\n",
       "      <td>141530.000000</td>\n",
       "      <td>1.415300e+05</td>\n",
       "      <td>1.415300e+05</td>\n",
       "      <td>141530.000000</td>\n",
       "      <td>141530.000000</td>\n",
       "      <td>...</td>\n",
       "      <td>141530.000000</td>\n",
       "      <td>141530.000000</td>\n",
       "      <td>141530.0</td>\n",
       "      <td>141530.0</td>\n",
       "      <td>141530.0</td>\n",
       "      <td>141530.0</td>\n",
       "      <td>1.415300e+05</td>\n",
       "      <td>1.415300e+05</td>\n",
       "      <td>1.415300e+05</td>\n",
       "      <td>1.415300e+05</td>\n",
       "    </tr>\n",
       "    <tr>\n",
       "      <th>mean</th>\n",
       "      <td>38450.268819</td>\n",
       "      <td>18124.647333</td>\n",
       "      <td>10.350427</td>\n",
       "      <td>2.081280e+07</td>\n",
       "      <td>152.800749</td>\n",
       "      <td>154.642062</td>\n",
       "      <td>1.126211e+05</td>\n",
       "      <td>1.304530e+05</td>\n",
       "      <td>208.920420</td>\n",
       "      <td>15.617078</td>\n",
       "      <td>...</td>\n",
       "      <td>96.881573</td>\n",
       "      <td>15.808182</td>\n",
       "      <td>0.0</td>\n",
       "      <td>0.0</td>\n",
       "      <td>0.0</td>\n",
       "      <td>0.0</td>\n",
       "      <td>7.027739e+14</td>\n",
       "      <td>5.525971e+13</td>\n",
       "      <td>7.305706e+14</td>\n",
       "      <td>5.993941e+14</td>\n",
       "    </tr>\n",
       "    <tr>\n",
       "      <th>std</th>\n",
       "      <td>19124.801990</td>\n",
       "      <td>22202.197159</td>\n",
       "      <td>5.431807</td>\n",
       "      <td>3.809155e+07</td>\n",
       "      <td>2378.323352</td>\n",
       "      <td>3418.715287</td>\n",
       "      <td>3.251357e+06</td>\n",
       "      <td>4.566180e+06</td>\n",
       "      <td>649.432333</td>\n",
       "      <td>31.312298</td>\n",
       "      <td>...</td>\n",
       "      <td>1582.814902</td>\n",
       "      <td>7.110714</td>\n",
       "      <td>0.0</td>\n",
       "      <td>0.0</td>\n",
       "      <td>0.0</td>\n",
       "      <td>0.0</td>\n",
       "      <td>7.058343e+14</td>\n",
       "      <td>1.930081e+14</td>\n",
       "      <td>7.248022e+14</td>\n",
       "      <td>7.138123e+14</td>\n",
       "    </tr>\n",
       "    <tr>\n",
       "      <th>min</th>\n",
       "      <td>0.000000</td>\n",
       "      <td>0.000000</td>\n",
       "      <td>0.000000</td>\n",
       "      <td>0.000000e+00</td>\n",
       "      <td>1.000000</td>\n",
       "      <td>0.000000</td>\n",
       "      <td>0.000000e+00</td>\n",
       "      <td>0.000000e+00</td>\n",
       "      <td>0.000000</td>\n",
       "      <td>0.000000</td>\n",
       "      <td>...</td>\n",
       "      <td>0.000000</td>\n",
       "      <td>0.000000</td>\n",
       "      <td>0.0</td>\n",
       "      <td>0.0</td>\n",
       "      <td>0.0</td>\n",
       "      <td>0.0</td>\n",
       "      <td>0.000000e+00</td>\n",
       "      <td>0.000000e+00</td>\n",
       "      <td>0.000000e+00</td>\n",
       "      <td>0.000000e+00</td>\n",
       "    </tr>\n",
       "    <tr>\n",
       "      <th>25%</th>\n",
       "      <td>32425.500000</td>\n",
       "      <td>80.000000</td>\n",
       "      <td>6.000000</td>\n",
       "      <td>1.778100e+04</td>\n",
       "      <td>1.000000</td>\n",
       "      <td>0.000000</td>\n",
       "      <td>0.000000e+00</td>\n",
       "      <td>0.000000e+00</td>\n",
       "      <td>0.000000</td>\n",
       "      <td>0.000000</td>\n",
       "      <td>...</td>\n",
       "      <td>0.000000</td>\n",
       "      <td>8.000000</td>\n",
       "      <td>0.0</td>\n",
       "      <td>0.0</td>\n",
       "      <td>0.0</td>\n",
       "      <td>0.0</td>\n",
       "      <td>0.000000e+00</td>\n",
       "      <td>0.000000e+00</td>\n",
       "      <td>0.000000e+00</td>\n",
       "      <td>0.000000e+00</td>\n",
       "    </tr>\n",
       "    <tr>\n",
       "      <th>50%</th>\n",
       "      <td>43528.000000</td>\n",
       "      <td>5355.000000</td>\n",
       "      <td>6.000000</td>\n",
       "      <td>4.162820e+05</td>\n",
       "      <td>2.000000</td>\n",
       "      <td>1.000000</td>\n",
       "      <td>4.400000e+01</td>\n",
       "      <td>0.000000e+00</td>\n",
       "      <td>34.000000</td>\n",
       "      <td>0.000000</td>\n",
       "      <td>...</td>\n",
       "      <td>1.000000</td>\n",
       "      <td>20.000000</td>\n",
       "      <td>0.0</td>\n",
       "      <td>0.0</td>\n",
       "      <td>0.0</td>\n",
       "      <td>0.0</td>\n",
       "      <td>7.281252e+14</td>\n",
       "      <td>0.000000e+00</td>\n",
       "      <td>1.427725e+15</td>\n",
       "      <td>5.584614e+06</td>\n",
       "    </tr>\n",
       "    <tr>\n",
       "      <th>75%</th>\n",
       "      <td>53338.000000</td>\n",
       "      <td>40020.000000</td>\n",
       "      <td>17.000000</td>\n",
       "      <td>1.181470e+07</td>\n",
       "      <td>4.000000</td>\n",
       "      <td>3.000000</td>\n",
       "      <td>2.160000e+02</td>\n",
       "      <td>2.160000e+02</td>\n",
       "      <td>103.000000</td>\n",
       "      <td>31.000000</td>\n",
       "      <td>...</td>\n",
       "      <td>2.000000</td>\n",
       "      <td>20.000000</td>\n",
       "      <td>0.0</td>\n",
       "      <td>0.0</td>\n",
       "      <td>0.0</td>\n",
       "      <td>0.0</td>\n",
       "      <td>1.456263e+15</td>\n",
       "      <td>1.031457e+07</td>\n",
       "      <td>1.456323e+15</td>\n",
       "      <td>1.456263e+15</td>\n",
       "    </tr>\n",
       "    <tr>\n",
       "      <th>max</th>\n",
       "      <td>65534.000000</td>\n",
       "      <td>65535.000000</td>\n",
       "      <td>17.000000</td>\n",
       "      <td>1.200000e+08</td>\n",
       "      <td>238161.000000</td>\n",
       "      <td>470862.000000</td>\n",
       "      <td>7.693074e+08</td>\n",
       "      <td>6.704287e+08</td>\n",
       "      <td>64240.000000</td>\n",
       "      <td>1350.000000</td>\n",
       "      <td>...</td>\n",
       "      <td>113325.000000</td>\n",
       "      <td>44.000000</td>\n",
       "      <td>0.0</td>\n",
       "      <td>0.0</td>\n",
       "      <td>0.0</td>\n",
       "      <td>0.0</td>\n",
       "      <td>1.456417e+15</td>\n",
       "      <td>1.029836e+15</td>\n",
       "      <td>1.456417e+15</td>\n",
       "      <td>1.456417e+15</td>\n",
       "    </tr>\n",
       "  </tbody>\n",
       "</table>\n",
       "<p>8 rows × 79 columns</p>\n",
       "</div>"
      ],
      "text/plain": [
       "            Src Port       Dst Port       Protocol  Flow Duration  \\\n",
       "count  141530.000000  141530.000000  141530.000000   1.415300e+05   \n",
       "mean    38450.268819   18124.647333      10.350427   2.081280e+07   \n",
       "std     19124.801990   22202.197159       5.431807   3.809155e+07   \n",
       "min         0.000000       0.000000       0.000000   0.000000e+00   \n",
       "25%     32425.500000      80.000000       6.000000   1.778100e+04   \n",
       "50%     43528.000000    5355.000000       6.000000   4.162820e+05   \n",
       "75%     53338.000000   40020.000000      17.000000   1.181470e+07   \n",
       "max     65534.000000   65535.000000      17.000000   1.200000e+08   \n",
       "\n",
       "       Total Fwd Packet  Total Bwd packets  Total Length of Fwd Packet  \\\n",
       "count     141530.000000      141530.000000                1.415300e+05   \n",
       "mean         152.800749         154.642062                1.126211e+05   \n",
       "std         2378.323352        3418.715287                3.251357e+06   \n",
       "min            1.000000           0.000000                0.000000e+00   \n",
       "25%            1.000000           0.000000                0.000000e+00   \n",
       "50%            2.000000           1.000000                4.400000e+01   \n",
       "75%            4.000000           3.000000                2.160000e+02   \n",
       "max       238161.000000      470862.000000                7.693074e+08   \n",
       "\n",
       "       Total Length of Bwd Packet  Fwd Packet Length Max  \\\n",
       "count                1.415300e+05          141530.000000   \n",
       "mean                 1.304530e+05             208.920420   \n",
       "std                  4.566180e+06             649.432333   \n",
       "min                  0.000000e+00               0.000000   \n",
       "25%                  0.000000e+00               0.000000   \n",
       "50%                  0.000000e+00              34.000000   \n",
       "75%                  2.160000e+02             103.000000   \n",
       "max                  6.704287e+08           64240.000000   \n",
       "\n",
       "       Fwd Packet Length Min  ...  Fwd Act Data Pkts  Fwd Seg Size Min  \\\n",
       "count          141530.000000  ...      141530.000000     141530.000000   \n",
       "mean               15.617078  ...          96.881573         15.808182   \n",
       "std                31.312298  ...        1582.814902          7.110714   \n",
       "min                 0.000000  ...           0.000000          0.000000   \n",
       "25%                 0.000000  ...           0.000000          8.000000   \n",
       "50%                 0.000000  ...           1.000000         20.000000   \n",
       "75%                31.000000  ...           2.000000         20.000000   \n",
       "max              1350.000000  ...      113325.000000         44.000000   \n",
       "\n",
       "       Active Mean  Active Std  Active Max  Active Min     Idle Mean  \\\n",
       "count     141530.0    141530.0    141530.0    141530.0  1.415300e+05   \n",
       "mean           0.0         0.0         0.0         0.0  7.027739e+14   \n",
       "std            0.0         0.0         0.0         0.0  7.058343e+14   \n",
       "min            0.0         0.0         0.0         0.0  0.000000e+00   \n",
       "25%            0.0         0.0         0.0         0.0  0.000000e+00   \n",
       "50%            0.0         0.0         0.0         0.0  7.281252e+14   \n",
       "75%            0.0         0.0         0.0         0.0  1.456263e+15   \n",
       "max            0.0         0.0         0.0         0.0  1.456417e+15   \n",
       "\n",
       "           Idle Std      Idle Max      Idle Min  \n",
       "count  1.415300e+05  1.415300e+05  1.415300e+05  \n",
       "mean   5.525971e+13  7.305706e+14  5.993941e+14  \n",
       "std    1.930081e+14  7.248022e+14  7.138123e+14  \n",
       "min    0.000000e+00  0.000000e+00  0.000000e+00  \n",
       "25%    0.000000e+00  0.000000e+00  0.000000e+00  \n",
       "50%    0.000000e+00  1.427725e+15  5.584614e+06  \n",
       "75%    1.031457e+07  1.456323e+15  1.456263e+15  \n",
       "max    1.029836e+15  1.456417e+15  1.456417e+15  \n",
       "\n",
       "[8 rows x 79 columns]"
      ]
     },
     "execution_count": 15,
     "metadata": {},
     "output_type": "execute_result"
    }
   ],
   "source": [
    "data.describe()"
   ]
  },
  {
   "cell_type": "code",
   "execution_count": 17,
   "id": "c30d4433",
   "metadata": {},
   "outputs": [
    {
     "data": {
      "text/plain": [
       "Flow ID      object\n",
       "Src IP       object\n",
       "Src Port      int64\n",
       "Dst IP       object\n",
       "Dst Port      int64\n",
       "             ...   \n",
       "Idle Std    float64\n",
       "Idle Max    float64\n",
       "Idle Min    float64\n",
       "Label        object\n",
       "Label.1      object\n",
       "Length: 85, dtype: object"
      ]
     },
     "execution_count": 17,
     "metadata": {},
     "output_type": "execute_result"
    }
   ],
   "source": [
    "data.dtypes"
   ]
  },
  {
   "cell_type": "code",
   "execution_count": 18,
   "id": "01c7f0f1",
   "metadata": {},
   "outputs": [
    {
     "data": {
      "text/plain": [
       "True"
      ]
     },
     "execution_count": 18,
     "metadata": {},
     "output_type": "execute_result"
    }
   ],
   "source": [
    "#Checking for null vaues\n",
    "\n",
    "data.isnull().values.any()"
   ]
  },
  {
   "cell_type": "code",
   "execution_count": 19,
   "id": "bf21ffc2",
   "metadata": {},
   "outputs": [
    {
     "data": {
      "text/plain": [
       "47"
      ]
     },
     "execution_count": 19,
     "metadata": {},
     "output_type": "execute_result"
    }
   ],
   "source": [
    "#Total number of null values\n",
    "\n",
    "data.isnull().values.sum()"
   ]
  },
  {
   "cell_type": "code",
   "execution_count": 21,
   "id": "090da90a",
   "metadata": {},
   "outputs": [
    {
     "name": "stdout",
     "output_type": "stream",
     "text": [
      "0.0\n",
      "0.0\n",
      "0.0\n",
      "0.0\n",
      "0.0\n",
      "0.0\n",
      "0.0\n",
      "0.0\n",
      "0.0\n",
      "0.0\n",
      "0.0\n",
      "0.0\n",
      "0.0\n",
      "0.0\n",
      "0.0\n",
      "0.0\n",
      "0.0\n",
      "0.0\n",
      "0.0\n",
      "0.0\n",
      "0.03320850703031159\n",
      "0.0\n",
      "0.0\n",
      "0.0\n",
      "0.0\n",
      "0.0\n",
      "0.0\n",
      "0.0\n",
      "0.0\n",
      "0.0\n",
      "0.0\n",
      "0.0\n",
      "0.0\n",
      "0.0\n",
      "0.0\n",
      "0.0\n",
      "0.0\n",
      "0.0\n",
      "0.0\n",
      "0.0\n",
      "0.0\n",
      "0.0\n",
      "0.0\n",
      "0.0\n",
      "0.0\n",
      "0.0\n",
      "0.0\n",
      "0.0\n",
      "0.0\n",
      "0.0\n",
      "0.0\n",
      "0.0\n",
      "0.0\n",
      "0.0\n",
      "0.0\n",
      "0.0\n",
      "0.0\n",
      "0.0\n",
      "0.0\n",
      "0.0\n",
      "0.0\n",
      "0.0\n",
      "0.0\n",
      "0.0\n",
      "0.0\n",
      "0.0\n",
      "0.0\n",
      "0.0\n",
      "0.0\n",
      "0.0\n",
      "0.0\n",
      "0.0\n",
      "0.0\n",
      "0.0\n",
      "0.0\n",
      "0.0\n",
      "0.0\n",
      "0.0\n",
      "0.0\n",
      "0.0\n",
      "0.0\n",
      "0.0\n",
      "0.0\n",
      "0.0\n",
      "0.0\n"
     ]
    }
   ],
   "source": [
    "#index of null values\n",
    "df_percent_null_values=(data.isnull().sum()*100)/len(data)\n",
    "for i in df_percent_null_values:\n",
    "    print(i)"
   ]
  },
  {
   "cell_type": "code",
   "execution_count": 22,
   "id": "159db085",
   "metadata": {},
   "outputs": [],
   "source": [
    "#As the volume of null values is small, thus dropping those\n",
    "data.dropna(axis = 0, inplace = True)"
   ]
  },
  {
   "cell_type": "code",
   "execution_count": 23,
   "id": "5ebbc195",
   "metadata": {},
   "outputs": [
    {
     "data": {
      "text/plain": [
       "False"
      ]
     },
     "execution_count": 23,
     "metadata": {},
     "output_type": "execute_result"
    }
   ],
   "source": [
    "data.isnull().values.any()"
   ]
  },
  {
   "cell_type": "code",
   "execution_count": 24,
   "id": "7d8eafb2",
   "metadata": {},
   "outputs": [],
   "source": [
    "#Dropping duplicated values\n",
    "data = data.loc[:,~data.columns.duplicated()]"
   ]
  },
  {
   "cell_type": "code",
   "execution_count": 25,
   "id": "35e7b53f",
   "metadata": {},
   "outputs": [
    {
     "data": {
      "text/plain": [
       "Index(['Flow ID', 'Src IP', 'Src Port', 'Dst IP', 'Dst Port', 'Protocol',\n",
       "       'Timestamp', 'Flow Duration', 'Total Fwd Packet', 'Total Bwd packets',\n",
       "       'Total Length of Fwd Packet', 'Total Length of Bwd Packet',\n",
       "       'Fwd Packet Length Max', 'Fwd Packet Length Min',\n",
       "       'Fwd Packet Length Mean', 'Fwd Packet Length Std',\n",
       "       'Bwd Packet Length Max', 'Bwd Packet Length Min',\n",
       "       'Bwd Packet Length Mean', 'Bwd Packet Length Std', 'Flow Bytes/s',\n",
       "       'Flow Packets/s', 'Flow IAT Mean', 'Flow IAT Std', 'Flow IAT Max',\n",
       "       'Flow IAT Min', 'Fwd IAT Total', 'Fwd IAT Mean', 'Fwd IAT Std',\n",
       "       'Fwd IAT Max', 'Fwd IAT Min', 'Bwd IAT Total', 'Bwd IAT Mean',\n",
       "       'Bwd IAT Std', 'Bwd IAT Max', 'Bwd IAT Min', 'Fwd PSH Flags',\n",
       "       'Bwd PSH Flags', 'Fwd URG Flags', 'Bwd URG Flags', 'Fwd Header Length',\n",
       "       'Bwd Header Length', 'Fwd Packets/s', 'Bwd Packets/s',\n",
       "       'Packet Length Min', 'Packet Length Max', 'Packet Length Mean',\n",
       "       'Packet Length Std', 'Packet Length Variance', 'FIN Flag Count',\n",
       "       'SYN Flag Count', 'RST Flag Count', 'PSH Flag Count', 'ACK Flag Count',\n",
       "       'URG Flag Count', 'CWE Flag Count', 'ECE Flag Count', 'Down/Up Ratio',\n",
       "       'Average Packet Size', 'Fwd Segment Size Avg', 'Bwd Segment Size Avg',\n",
       "       'Fwd Bytes/Bulk Avg', 'Fwd Packet/Bulk Avg', 'Fwd Bulk Rate Avg',\n",
       "       'Bwd Bytes/Bulk Avg', 'Bwd Packet/Bulk Avg', 'Bwd Bulk Rate Avg',\n",
       "       'Subflow Fwd Packets', 'Subflow Fwd Bytes', 'Subflow Bwd Packets',\n",
       "       'Subflow Bwd Bytes', 'FWD Init Win Bytes', 'Bwd Init Win Bytes',\n",
       "       'Fwd Act Data Pkts', 'Fwd Seg Size Min', 'Active Mean', 'Active Std',\n",
       "       'Active Max', 'Active Min', 'Idle Mean', 'Idle Std', 'Idle Max',\n",
       "       'Idle Min', 'Label', 'Label.1'],\n",
       "      dtype='object')"
      ]
     },
     "execution_count": 25,
     "metadata": {},
     "output_type": "execute_result"
    }
   ],
   "source": [
    "data.columns"
   ]
  },
  {
   "cell_type": "code",
   "execution_count": 26,
   "id": "df1eff5d",
   "metadata": {},
   "outputs": [],
   "source": [
    "data['Label'] = data['Label'].astype('str') \n",
    "data['Label'].dtype\n",
    "data['Label'] = data['Label'].apply(lambda name : name.upper())"
   ]
  },
  {
   "cell_type": "code",
   "execution_count": 27,
   "id": "1e493742",
   "metadata": {},
   "outputs": [],
   "source": [
    "data['Label.1'] = data['Label.1'].astype('str') \n",
    "data['Label.1'].dtype\n",
    "data['Label.1'] = data['Label.1'].apply(lambda name : name.upper())"
   ]
  },
  {
   "cell_type": "code",
   "execution_count": 29,
   "id": "416c7f3e",
   "metadata": {},
   "outputs": [],
   "source": [
    "#Converting categorical values into numerical values using label encoder\n",
    "labelencoder= LabelEncoder()\n",
    "data['Label'] = labelencoder.fit_transform(data['Label'])"
   ]
  },
  {
   "cell_type": "code",
   "execution_count": 30,
   "id": "01fdd850",
   "metadata": {},
   "outputs": [
    {
     "data": {
      "text/html": [
       "<div>\n",
       "<style scoped>\n",
       "    .dataframe tbody tr th:only-of-type {\n",
       "        vertical-align: middle;\n",
       "    }\n",
       "\n",
       "    .dataframe tbody tr th {\n",
       "        vertical-align: top;\n",
       "    }\n",
       "\n",
       "    .dataframe thead th {\n",
       "        text-align: right;\n",
       "    }\n",
       "</style>\n",
       "<table border=\"1\" class=\"dataframe\">\n",
       "  <thead>\n",
       "    <tr style=\"text-align: right;\">\n",
       "      <th></th>\n",
       "      <th>Flow ID</th>\n",
       "      <th>Src IP</th>\n",
       "      <th>Src Port</th>\n",
       "      <th>Dst IP</th>\n",
       "      <th>Dst Port</th>\n",
       "      <th>Protocol</th>\n",
       "      <th>Timestamp</th>\n",
       "      <th>Flow Duration</th>\n",
       "      <th>Total Fwd Packet</th>\n",
       "      <th>Total Bwd packets</th>\n",
       "      <th>...</th>\n",
       "      <th>Active Mean</th>\n",
       "      <th>Active Std</th>\n",
       "      <th>Active Max</th>\n",
       "      <th>Active Min</th>\n",
       "      <th>Idle Mean</th>\n",
       "      <th>Idle Std</th>\n",
       "      <th>Idle Max</th>\n",
       "      <th>Idle Min</th>\n",
       "      <th>Label</th>\n",
       "      <th>Label.1</th>\n",
       "    </tr>\n",
       "  </thead>\n",
       "  <tbody>\n",
       "    <tr>\n",
       "      <th>0</th>\n",
       "      <td>10.152.152.11-216.58.220.99-57158-443-6</td>\n",
       "      <td>10.152.152.11</td>\n",
       "      <td>57158</td>\n",
       "      <td>216.58.220.99</td>\n",
       "      <td>443</td>\n",
       "      <td>6</td>\n",
       "      <td>24/07/2015 04:09:48 PM</td>\n",
       "      <td>229</td>\n",
       "      <td>1</td>\n",
       "      <td>1</td>\n",
       "      <td>...</td>\n",
       "      <td>0</td>\n",
       "      <td>0</td>\n",
       "      <td>0</td>\n",
       "      <td>0</td>\n",
       "      <td>0.000000e+00</td>\n",
       "      <td>0.000000e+00</td>\n",
       "      <td>0.000000e+00</td>\n",
       "      <td>0.000000e+00</td>\n",
       "      <td>0</td>\n",
       "      <td>AUDIO-STREAMING</td>\n",
       "    </tr>\n",
       "    <tr>\n",
       "      <th>1</th>\n",
       "      <td>10.152.152.11-216.58.220.99-57159-443-6</td>\n",
       "      <td>10.152.152.11</td>\n",
       "      <td>57159</td>\n",
       "      <td>216.58.220.99</td>\n",
       "      <td>443</td>\n",
       "      <td>6</td>\n",
       "      <td>24/07/2015 04:09:48 PM</td>\n",
       "      <td>407</td>\n",
       "      <td>1</td>\n",
       "      <td>1</td>\n",
       "      <td>...</td>\n",
       "      <td>0</td>\n",
       "      <td>0</td>\n",
       "      <td>0</td>\n",
       "      <td>0</td>\n",
       "      <td>0.000000e+00</td>\n",
       "      <td>0.000000e+00</td>\n",
       "      <td>0.000000e+00</td>\n",
       "      <td>0.000000e+00</td>\n",
       "      <td>0</td>\n",
       "      <td>AUDIO-STREAMING</td>\n",
       "    </tr>\n",
       "    <tr>\n",
       "      <th>2</th>\n",
       "      <td>10.152.152.11-216.58.220.99-57160-443-6</td>\n",
       "      <td>10.152.152.11</td>\n",
       "      <td>57160</td>\n",
       "      <td>216.58.220.99</td>\n",
       "      <td>443</td>\n",
       "      <td>6</td>\n",
       "      <td>24/07/2015 04:09:48 PM</td>\n",
       "      <td>431</td>\n",
       "      <td>1</td>\n",
       "      <td>1</td>\n",
       "      <td>...</td>\n",
       "      <td>0</td>\n",
       "      <td>0</td>\n",
       "      <td>0</td>\n",
       "      <td>0</td>\n",
       "      <td>0.000000e+00</td>\n",
       "      <td>0.000000e+00</td>\n",
       "      <td>0.000000e+00</td>\n",
       "      <td>0.000000e+00</td>\n",
       "      <td>0</td>\n",
       "      <td>AUDIO-STREAMING</td>\n",
       "    </tr>\n",
       "    <tr>\n",
       "      <th>3</th>\n",
       "      <td>10.152.152.11-74.125.136.120-49134-443-6</td>\n",
       "      <td>10.152.152.11</td>\n",
       "      <td>49134</td>\n",
       "      <td>74.125.136.120</td>\n",
       "      <td>443</td>\n",
       "      <td>6</td>\n",
       "      <td>24/07/2015 04:09:48 PM</td>\n",
       "      <td>359</td>\n",
       "      <td>1</td>\n",
       "      <td>1</td>\n",
       "      <td>...</td>\n",
       "      <td>0</td>\n",
       "      <td>0</td>\n",
       "      <td>0</td>\n",
       "      <td>0</td>\n",
       "      <td>0.000000e+00</td>\n",
       "      <td>0.000000e+00</td>\n",
       "      <td>0.000000e+00</td>\n",
       "      <td>0.000000e+00</td>\n",
       "      <td>0</td>\n",
       "      <td>AUDIO-STREAMING</td>\n",
       "    </tr>\n",
       "    <tr>\n",
       "      <th>4</th>\n",
       "      <td>10.152.152.11-173.194.65.127-34697-19305-6</td>\n",
       "      <td>10.152.152.11</td>\n",
       "      <td>34697</td>\n",
       "      <td>173.194.65.127</td>\n",
       "      <td>19305</td>\n",
       "      <td>6</td>\n",
       "      <td>24/07/2015 04:09:45 PM</td>\n",
       "      <td>10778451</td>\n",
       "      <td>591</td>\n",
       "      <td>400</td>\n",
       "      <td>...</td>\n",
       "      <td>0</td>\n",
       "      <td>0</td>\n",
       "      <td>0</td>\n",
       "      <td>0</td>\n",
       "      <td>1.437765e+15</td>\n",
       "      <td>3.117718e+06</td>\n",
       "      <td>1.437765e+15</td>\n",
       "      <td>1.437765e+15</td>\n",
       "      <td>0</td>\n",
       "      <td>AUDIO-STREAMING</td>\n",
       "    </tr>\n",
       "  </tbody>\n",
       "</table>\n",
       "<p>5 rows × 85 columns</p>\n",
       "</div>"
      ],
      "text/plain": [
       "                                      Flow ID         Src IP  Src Port  \\\n",
       "0     10.152.152.11-216.58.220.99-57158-443-6  10.152.152.11     57158   \n",
       "1     10.152.152.11-216.58.220.99-57159-443-6  10.152.152.11     57159   \n",
       "2     10.152.152.11-216.58.220.99-57160-443-6  10.152.152.11     57160   \n",
       "3    10.152.152.11-74.125.136.120-49134-443-6  10.152.152.11     49134   \n",
       "4  10.152.152.11-173.194.65.127-34697-19305-6  10.152.152.11     34697   \n",
       "\n",
       "           Dst IP  Dst Port  Protocol               Timestamp  Flow Duration  \\\n",
       "0   216.58.220.99       443         6  24/07/2015 04:09:48 PM            229   \n",
       "1   216.58.220.99       443         6  24/07/2015 04:09:48 PM            407   \n",
       "2   216.58.220.99       443         6  24/07/2015 04:09:48 PM            431   \n",
       "3  74.125.136.120       443         6  24/07/2015 04:09:48 PM            359   \n",
       "4  173.194.65.127     19305         6  24/07/2015 04:09:45 PM       10778451   \n",
       "\n",
       "   Total Fwd Packet  Total Bwd packets  ...  Active Mean  Active Std  \\\n",
       "0                 1                  1  ...            0           0   \n",
       "1                 1                  1  ...            0           0   \n",
       "2                 1                  1  ...            0           0   \n",
       "3                 1                  1  ...            0           0   \n",
       "4               591                400  ...            0           0   \n",
       "\n",
       "   Active Max  Active Min     Idle Mean      Idle Std      Idle Max  \\\n",
       "0           0           0  0.000000e+00  0.000000e+00  0.000000e+00   \n",
       "1           0           0  0.000000e+00  0.000000e+00  0.000000e+00   \n",
       "2           0           0  0.000000e+00  0.000000e+00  0.000000e+00   \n",
       "3           0           0  0.000000e+00  0.000000e+00  0.000000e+00   \n",
       "4           0           0  1.437765e+15  3.117718e+06  1.437765e+15   \n",
       "\n",
       "       Idle Min  Label          Label.1  \n",
       "0  0.000000e+00      0  AUDIO-STREAMING  \n",
       "1  0.000000e+00      0  AUDIO-STREAMING  \n",
       "2  0.000000e+00      0  AUDIO-STREAMING  \n",
       "3  0.000000e+00      0  AUDIO-STREAMING  \n",
       "4  1.437765e+15      0  AUDIO-STREAMING  \n",
       "\n",
       "[5 rows x 85 columns]"
      ]
     },
     "execution_count": 30,
     "metadata": {},
     "output_type": "execute_result"
    }
   ],
   "source": [
    "data.head()"
   ]
  },
  {
   "cell_type": "code",
   "execution_count": 31,
   "id": "b6e243ba",
   "metadata": {},
   "outputs": [
    {
     "data": {
      "text/html": [
       "<div>\n",
       "<style scoped>\n",
       "    .dataframe tbody tr th:only-of-type {\n",
       "        vertical-align: middle;\n",
       "    }\n",
       "\n",
       "    .dataframe tbody tr th {\n",
       "        vertical-align: top;\n",
       "    }\n",
       "\n",
       "    .dataframe thead th {\n",
       "        text-align: right;\n",
       "    }\n",
       "</style>\n",
       "<table border=\"1\" class=\"dataframe\">\n",
       "  <thead>\n",
       "    <tr style=\"text-align: right;\">\n",
       "      <th></th>\n",
       "      <th>Src Port</th>\n",
       "      <th>Dst Port</th>\n",
       "      <th>Protocol</th>\n",
       "      <th>Flow Duration</th>\n",
       "      <th>Total Fwd Packet</th>\n",
       "      <th>Total Bwd packets</th>\n",
       "      <th>Total Length of Fwd Packet</th>\n",
       "      <th>Total Length of Bwd Packet</th>\n",
       "      <th>Fwd Packet Length Max</th>\n",
       "      <th>Fwd Packet Length Min</th>\n",
       "      <th>...</th>\n",
       "      <th>Fwd Seg Size Min</th>\n",
       "      <th>Active Mean</th>\n",
       "      <th>Active Std</th>\n",
       "      <th>Active Max</th>\n",
       "      <th>Active Min</th>\n",
       "      <th>Idle Mean</th>\n",
       "      <th>Idle Std</th>\n",
       "      <th>Idle Max</th>\n",
       "      <th>Idle Min</th>\n",
       "      <th>Label</th>\n",
       "    </tr>\n",
       "  </thead>\n",
       "  <tbody>\n",
       "    <tr>\n",
       "      <th>Src Port</th>\n",
       "      <td>1.000000</td>\n",
       "      <td>-0.245809</td>\n",
       "      <td>-0.097933</td>\n",
       "      <td>0.065040</td>\n",
       "      <td>-0.036318</td>\n",
       "      <td>-0.014283</td>\n",
       "      <td>-0.019744</td>\n",
       "      <td>-0.008293</td>\n",
       "      <td>0.076338</td>\n",
       "      <td>-0.090378</td>\n",
       "      <td>...</td>\n",
       "      <td>0.138797</td>\n",
       "      <td>NaN</td>\n",
       "      <td>NaN</td>\n",
       "      <td>NaN</td>\n",
       "      <td>NaN</td>\n",
       "      <td>0.072765</td>\n",
       "      <td>0.058493</td>\n",
       "      <td>0.077321</td>\n",
       "      <td>0.030841</td>\n",
       "      <td>-0.049322</td>\n",
       "    </tr>\n",
       "    <tr>\n",
       "      <th>Dst Port</th>\n",
       "      <td>-0.245809</td>\n",
       "      <td>1.000000</td>\n",
       "      <td>-0.320981</td>\n",
       "      <td>0.039493</td>\n",
       "      <td>0.022131</td>\n",
       "      <td>0.014801</td>\n",
       "      <td>0.004468</td>\n",
       "      <td>0.010882</td>\n",
       "      <td>0.004597</td>\n",
       "      <td>-0.178557</td>\n",
       "      <td>...</td>\n",
       "      <td>0.246108</td>\n",
       "      <td>NaN</td>\n",
       "      <td>NaN</td>\n",
       "      <td>NaN</td>\n",
       "      <td>NaN</td>\n",
       "      <td>0.070286</td>\n",
       "      <td>-0.000575</td>\n",
       "      <td>0.064880</td>\n",
       "      <td>0.060534</td>\n",
       "      <td>-0.291576</td>\n",
       "    </tr>\n",
       "    <tr>\n",
       "      <th>Protocol</th>\n",
       "      <td>-0.097933</td>\n",
       "      <td>-0.320981</td>\n",
       "      <td>1.000000</td>\n",
       "      <td>-0.267141</td>\n",
       "      <td>-0.034756</td>\n",
       "      <td>-0.026179</td>\n",
       "      <td>-0.023051</td>\n",
       "      <td>-0.020883</td>\n",
       "      <td>-0.195232</td>\n",
       "      <td>0.563995</td>\n",
       "      <td>...</td>\n",
       "      <td>-0.872453</td>\n",
       "      <td>NaN</td>\n",
       "      <td>NaN</td>\n",
       "      <td>NaN</td>\n",
       "      <td>NaN</td>\n",
       "      <td>-0.223181</td>\n",
       "      <td>-0.155938</td>\n",
       "      <td>-0.236922</td>\n",
       "      <td>-0.129683</td>\n",
       "      <td>0.404986</td>\n",
       "    </tr>\n",
       "    <tr>\n",
       "      <th>Flow Duration</th>\n",
       "      <td>0.065040</td>\n",
       "      <td>0.039493</td>\n",
       "      <td>-0.267141</td>\n",
       "      <td>1.000000</td>\n",
       "      <td>0.142106</td>\n",
       "      <td>0.100285</td>\n",
       "      <td>0.072527</td>\n",
       "      <td>0.057006</td>\n",
       "      <td>0.340708</td>\n",
       "      <td>-0.069027</td>\n",
       "      <td>...</td>\n",
       "      <td>0.240543</td>\n",
       "      <td>NaN</td>\n",
       "      <td>NaN</td>\n",
       "      <td>NaN</td>\n",
       "      <td>NaN</td>\n",
       "      <td>0.505264</td>\n",
       "      <td>0.127529</td>\n",
       "      <td>0.506001</td>\n",
       "      <td>0.408922</td>\n",
       "      <td>-0.069622</td>\n",
       "    </tr>\n",
       "    <tr>\n",
       "      <th>Total Fwd Packet</th>\n",
       "      <td>-0.036318</td>\n",
       "      <td>0.022131</td>\n",
       "      <td>-0.034756</td>\n",
       "      <td>0.142106</td>\n",
       "      <td>1.000000</td>\n",
       "      <td>0.744834</td>\n",
       "      <td>0.457390</td>\n",
       "      <td>0.635688</td>\n",
       "      <td>0.125570</td>\n",
       "      <td>-0.020993</td>\n",
       "      <td>...</td>\n",
       "      <td>0.029666</td>\n",
       "      <td>NaN</td>\n",
       "      <td>NaN</td>\n",
       "      <td>NaN</td>\n",
       "      <td>NaN</td>\n",
       "      <td>0.066390</td>\n",
       "      <td>-0.017742</td>\n",
       "      <td>0.062253</td>\n",
       "      <td>0.074029</td>\n",
       "      <td>0.039563</td>\n",
       "    </tr>\n",
       "  </tbody>\n",
       "</table>\n",
       "<p>5 rows × 80 columns</p>\n",
       "</div>"
      ],
      "text/plain": [
       "                  Src Port  Dst Port  Protocol  Flow Duration  \\\n",
       "Src Port          1.000000 -0.245809 -0.097933       0.065040   \n",
       "Dst Port         -0.245809  1.000000 -0.320981       0.039493   \n",
       "Protocol         -0.097933 -0.320981  1.000000      -0.267141   \n",
       "Flow Duration     0.065040  0.039493 -0.267141       1.000000   \n",
       "Total Fwd Packet -0.036318  0.022131 -0.034756       0.142106   \n",
       "\n",
       "                  Total Fwd Packet  Total Bwd packets  \\\n",
       "Src Port                 -0.036318          -0.014283   \n",
       "Dst Port                  0.022131           0.014801   \n",
       "Protocol                 -0.034756          -0.026179   \n",
       "Flow Duration             0.142106           0.100285   \n",
       "Total Fwd Packet          1.000000           0.744834   \n",
       "\n",
       "                  Total Length of Fwd Packet  Total Length of Bwd Packet  \\\n",
       "Src Port                           -0.019744                   -0.008293   \n",
       "Dst Port                            0.004468                    0.010882   \n",
       "Protocol                           -0.023051                   -0.020883   \n",
       "Flow Duration                       0.072527                    0.057006   \n",
       "Total Fwd Packet                    0.457390                    0.635688   \n",
       "\n",
       "                  Fwd Packet Length Max  Fwd Packet Length Min  ...  \\\n",
       "Src Port                       0.076338              -0.090378  ...   \n",
       "Dst Port                       0.004597              -0.178557  ...   \n",
       "Protocol                      -0.195232               0.563995  ...   \n",
       "Flow Duration                  0.340708              -0.069027  ...   \n",
       "Total Fwd Packet               0.125570              -0.020993  ...   \n",
       "\n",
       "                  Fwd Seg Size Min  Active Mean  Active Std  Active Max  \\\n",
       "Src Port                  0.138797          NaN         NaN         NaN   \n",
       "Dst Port                  0.246108          NaN         NaN         NaN   \n",
       "Protocol                 -0.872453          NaN         NaN         NaN   \n",
       "Flow Duration             0.240543          NaN         NaN         NaN   \n",
       "Total Fwd Packet          0.029666          NaN         NaN         NaN   \n",
       "\n",
       "                  Active Min  Idle Mean  Idle Std  Idle Max  Idle Min  \\\n",
       "Src Port                 NaN   0.072765  0.058493  0.077321  0.030841   \n",
       "Dst Port                 NaN   0.070286 -0.000575  0.064880  0.060534   \n",
       "Protocol                 NaN  -0.223181 -0.155938 -0.236922 -0.129683   \n",
       "Flow Duration            NaN   0.505264  0.127529  0.506001  0.408922   \n",
       "Total Fwd Packet         NaN   0.066390 -0.017742  0.062253  0.074029   \n",
       "\n",
       "                     Label  \n",
       "Src Port         -0.049322  \n",
       "Dst Port         -0.291576  \n",
       "Protocol          0.404986  \n",
       "Flow Duration    -0.069622  \n",
       "Total Fwd Packet  0.039563  \n",
       "\n",
       "[5 rows x 80 columns]"
      ]
     },
     "execution_count": 31,
     "metadata": {},
     "output_type": "execute_result"
    }
   ],
   "source": [
    "#Finding correlation among columns\n",
    "cor = data.corr()\n",
    "cor.head()"
   ]
  },
  {
   "cell_type": "code",
   "execution_count": 32,
   "id": "08499e1a",
   "metadata": {},
   "outputs": [
    {
     "name": "stdout",
     "output_type": "stream",
     "text": [
      "cols are:  {'Fwd Packet Length Std', 'Total Length of Bwd Packet', 'Fwd Packets/s', 'Bwd Header Length', 'Fwd IAT Max', 'Bwd Segment Size Avg', 'Fwd Segment Size Avg', 'Fwd IAT Mean', 'Flow IAT Max', 'Fwd IAT Total', 'Bwd IAT Total', 'Bwd Packet/Bulk Avg', 'Bwd Packets/s', 'Idle Max', 'Bwd IAT Mean', 'Fwd Header Length', 'Subflow Bwd Bytes', 'Packet Length Max', 'Packet Length Std', 'Subflow Fwd Bytes', 'ACK Flag Count', 'Idle Min', 'Average Packet Size', 'Bwd Packet Length Std'}\n",
      "no of features:  24\n"
     ]
    }
   ],
   "source": [
    "#deleting columns which have r-value>9\n",
    "col_cor = set()\n",
    "for i in range(len(cor.columns)):\n",
    "      for j in range(i):\n",
    "        if (abs(cor.iloc[i,j]>=0.8)) and (cor.columns[j] not in col_cor):\n",
    "            col_name = cor.columns[i]\n",
    "            col_cor.add(col_name)\n",
    "            \n",
    "\n",
    "print(\"cols are: \",col_cor)\n",
    "print(\"no of features: \", len(col_cor))"
   ]
  },
  {
   "cell_type": "code",
   "execution_count": 33,
   "id": "2f488bb8",
   "metadata": {},
   "outputs": [],
   "source": [
    "data= data.drop(col_cor,axis=1)"
   ]
  },
  {
   "cell_type": "code",
   "execution_count": 34,
   "id": "37f1b714",
   "metadata": {},
   "outputs": [
    {
     "data": {
      "text/plain": [
       "(141483, 61)"
      ]
     },
     "execution_count": 34,
     "metadata": {},
     "output_type": "execute_result"
    }
   ],
   "source": [
    "data.shape"
   ]
  },
  {
   "cell_type": "code",
   "execution_count": 35,
   "id": "869a21d2",
   "metadata": {},
   "outputs": [
    {
     "name": "stdout",
     "output_type": "stream",
     "text": [
      "The IQR of all data:  Src Port                      2.083500e+04\n",
      "Dst Port                      3.994000e+04\n",
      "Protocol                      1.100000e+01\n",
      "Flow Duration                 1.182233e+07\n",
      "Total Fwd Packet              3.000000e+00\n",
      "Total Bwd packets             3.000000e+00\n",
      "Total Length of Fwd Packet    2.160000e+02\n",
      "Fwd Packet Length Max         1.030000e+02\n",
      "Fwd Packet Length Min         3.100000e+01\n",
      "Fwd Packet Length Mean        4.500000e+01\n",
      "Bwd Packet Length Max         2.130000e+02\n",
      "Bwd Packet Length Min         0.000000e+00\n",
      "Bwd Packet Length Mean        9.700000e+01\n",
      "Flow Bytes/s                  9.908260e+02\n",
      "Flow Packets/s                3.950545e+02\n",
      "Flow IAT Mean                 1.879835e+06\n",
      "Flow IAT Std                  2.213898e+06\n",
      "Flow IAT Min                  1.291215e+05\n",
      "Fwd IAT Std                   1.441643e+06\n",
      "Fwd IAT Min                   1.026500e+05\n",
      "Bwd IAT Std                   4.602714e+04\n",
      "Bwd IAT Max                   7.352025e+05\n",
      "Bwd IAT Min                   3.400000e+01\n",
      "Fwd PSH Flags                 0.000000e+00\n",
      "Bwd PSH Flags                 0.000000e+00\n",
      "Fwd URG Flags                 0.000000e+00\n",
      "Bwd URG Flags                 0.000000e+00\n",
      "Packet Length Min             2.900000e+01\n",
      "Packet Length Mean            9.594393e+01\n",
      "Packet Length Variance        1.408149e+04\n",
      "FIN Flag Count                1.000000e+00\n",
      "SYN Flag Count                0.000000e+00\n",
      "RST Flag Count                0.000000e+00\n",
      "PSH Flag Count                2.000000e+00\n",
      "URG Flag Count                0.000000e+00\n",
      "CWE Flag Count                0.000000e+00\n",
      "ECE Flag Count                0.000000e+00\n",
      "Down/Up Ratio                 1.000000e+00\n",
      "Fwd Bytes/Bulk Avg            0.000000e+00\n",
      "Fwd Packet/Bulk Avg           0.000000e+00\n",
      "Fwd Bulk Rate Avg             0.000000e+00\n",
      "Bwd Bytes/Bulk Avg            0.000000e+00\n",
      "Bwd Bulk Rate Avg             0.000000e+00\n",
      "Subflow Fwd Packets           1.000000e+00\n",
      "Subflow Bwd Packets           0.000000e+00\n",
      "FWD Init Win Bytes            1.457000e+04\n",
      "Bwd Init Win Bytes            1.047000e+03\n",
      "Fwd Act Data Pkts             2.000000e+00\n",
      "Fwd Seg Size Min              1.200000e+01\n",
      "Active Mean                   0.000000e+00\n",
      "Active Std                    0.000000e+00\n",
      "Active Max                    0.000000e+00\n",
      "Active Min                    0.000000e+00\n",
      "Idle Mean                     1.456263e+15\n",
      "Idle Std                      1.033608e+07\n",
      "Label                         1.000000e+00\n",
      "dtype: float64\n"
     ]
    }
   ],
   "source": [
    "#Finding inter quartile range\n",
    "Q1 = data.quantile(0.25)\n",
    "Q3 = data.quantile(0.75)\n",
    "IQR = Q3-Q1\n",
    "print(\"The IQR of all data: \",IQR)"
   ]
  },
  {
   "cell_type": "code",
   "execution_count": 36,
   "id": "ef84c324",
   "metadata": {},
   "outputs": [
    {
     "data": {
      "text/html": [
       "<div>\n",
       "<style scoped>\n",
       "    .dataframe tbody tr th:only-of-type {\n",
       "        vertical-align: middle;\n",
       "    }\n",
       "\n",
       "    .dataframe tbody tr th {\n",
       "        vertical-align: top;\n",
       "    }\n",
       "\n",
       "    .dataframe thead th {\n",
       "        text-align: right;\n",
       "    }\n",
       "</style>\n",
       "<table border=\"1\" class=\"dataframe\">\n",
       "  <thead>\n",
       "    <tr style=\"text-align: right;\">\n",
       "      <th></th>\n",
       "      <th>Flow ID</th>\n",
       "      <th>Src IP</th>\n",
       "      <th>Src Port</th>\n",
       "      <th>Dst IP</th>\n",
       "      <th>Dst Port</th>\n",
       "      <th>Protocol</th>\n",
       "      <th>Timestamp</th>\n",
       "      <th>Flow Duration</th>\n",
       "      <th>Total Fwd Packet</th>\n",
       "      <th>Total Bwd packets</th>\n",
       "      <th>...</th>\n",
       "      <th>Fwd Act Data Pkts</th>\n",
       "      <th>Fwd Seg Size Min</th>\n",
       "      <th>Active Mean</th>\n",
       "      <th>Active Std</th>\n",
       "      <th>Active Max</th>\n",
       "      <th>Active Min</th>\n",
       "      <th>Idle Mean</th>\n",
       "      <th>Idle Std</th>\n",
       "      <th>Label</th>\n",
       "      <th>Label.1</th>\n",
       "    </tr>\n",
       "  </thead>\n",
       "  <tbody>\n",
       "    <tr>\n",
       "      <th>1087</th>\n",
       "      <td>10.152.152.11-37.252.170.75-47033-443-6</td>\n",
       "      <td>10.152.152.11</td>\n",
       "      <td>47033</td>\n",
       "      <td>37.252.170.75</td>\n",
       "      <td>443</td>\n",
       "      <td>6</td>\n",
       "      <td>24/02/2016 02:09:59 PM</td>\n",
       "      <td>2385503</td>\n",
       "      <td>3</td>\n",
       "      <td>0</td>\n",
       "      <td>...</td>\n",
       "      <td>1</td>\n",
       "      <td>20</td>\n",
       "      <td>0</td>\n",
       "      <td>0</td>\n",
       "      <td>0</td>\n",
       "      <td>0</td>\n",
       "      <td>0.0</td>\n",
       "      <td>0.0</td>\n",
       "      <td>0</td>\n",
       "      <td>BROWSING</td>\n",
       "    </tr>\n",
       "    <tr>\n",
       "      <th>1130</th>\n",
       "      <td>10.152.152.11-216.58.209.130-41698-80-6</td>\n",
       "      <td>10.152.152.11</td>\n",
       "      <td>41698</td>\n",
       "      <td>216.58.209.130</td>\n",
       "      <td>80</td>\n",
       "      <td>6</td>\n",
       "      <td>24/02/2016 02:11:31 PM</td>\n",
       "      <td>2535</td>\n",
       "      <td>1</td>\n",
       "      <td>1</td>\n",
       "      <td>...</td>\n",
       "      <td>0</td>\n",
       "      <td>20</td>\n",
       "      <td>0</td>\n",
       "      <td>0</td>\n",
       "      <td>0</td>\n",
       "      <td>0</td>\n",
       "      <td>0.0</td>\n",
       "      <td>0.0</td>\n",
       "      <td>0</td>\n",
       "      <td>BROWSING</td>\n",
       "    </tr>\n",
       "    <tr>\n",
       "      <th>3627</th>\n",
       "      <td>10.152.152.11-195.138.255.8-37790-80-6</td>\n",
       "      <td>10.152.152.11</td>\n",
       "      <td>37790</td>\n",
       "      <td>195.138.255.8</td>\n",
       "      <td>80</td>\n",
       "      <td>6</td>\n",
       "      <td>24/02/2016 02:25:07 PM</td>\n",
       "      <td>4316</td>\n",
       "      <td>1</td>\n",
       "      <td>1</td>\n",
       "      <td>...</td>\n",
       "      <td>0</td>\n",
       "      <td>20</td>\n",
       "      <td>0</td>\n",
       "      <td>0</td>\n",
       "      <td>0</td>\n",
       "      <td>0</td>\n",
       "      <td>0.0</td>\n",
       "      <td>0.0</td>\n",
       "      <td>0</td>\n",
       "      <td>BROWSING</td>\n",
       "    </tr>\n",
       "    <tr>\n",
       "      <th>4241</th>\n",
       "      <td>10.152.152.11-68.171.169.171-58871-80-6</td>\n",
       "      <td>10.152.152.11</td>\n",
       "      <td>58871</td>\n",
       "      <td>68.171.169.171</td>\n",
       "      <td>80</td>\n",
       "      <td>6</td>\n",
       "      <td>24/02/2016 01:37:02 PM</td>\n",
       "      <td>12951</td>\n",
       "      <td>2</td>\n",
       "      <td>0</td>\n",
       "      <td>...</td>\n",
       "      <td>0</td>\n",
       "      <td>20</td>\n",
       "      <td>0</td>\n",
       "      <td>0</td>\n",
       "      <td>0</td>\n",
       "      <td>0</td>\n",
       "      <td>0.0</td>\n",
       "      <td>0.0</td>\n",
       "      <td>0</td>\n",
       "      <td>BROWSING</td>\n",
       "    </tr>\n",
       "    <tr>\n",
       "      <th>4242</th>\n",
       "      <td>10.152.152.11-174.123.37.171-45179-80-6</td>\n",
       "      <td>10.152.152.11</td>\n",
       "      <td>45179</td>\n",
       "      <td>174.123.37.171</td>\n",
       "      <td>80</td>\n",
       "      <td>6</td>\n",
       "      <td>24/02/2016 01:37:02 PM</td>\n",
       "      <td>17742</td>\n",
       "      <td>2</td>\n",
       "      <td>0</td>\n",
       "      <td>...</td>\n",
       "      <td>0</td>\n",
       "      <td>20</td>\n",
       "      <td>0</td>\n",
       "      <td>0</td>\n",
       "      <td>0</td>\n",
       "      <td>0</td>\n",
       "      <td>0.0</td>\n",
       "      <td>0.0</td>\n",
       "      <td>0</td>\n",
       "      <td>BROWSING</td>\n",
       "    </tr>\n",
       "  </tbody>\n",
       "</table>\n",
       "<p>5 rows × 61 columns</p>\n",
       "</div>"
      ],
      "text/plain": [
       "                                      Flow ID         Src IP  Src Port  \\\n",
       "1087  10.152.152.11-37.252.170.75-47033-443-6  10.152.152.11     47033   \n",
       "1130  10.152.152.11-216.58.209.130-41698-80-6  10.152.152.11     41698   \n",
       "3627   10.152.152.11-195.138.255.8-37790-80-6  10.152.152.11     37790   \n",
       "4241  10.152.152.11-68.171.169.171-58871-80-6  10.152.152.11     58871   \n",
       "4242  10.152.152.11-174.123.37.171-45179-80-6  10.152.152.11     45179   \n",
       "\n",
       "              Dst IP  Dst Port  Protocol               Timestamp  \\\n",
       "1087   37.252.170.75       443         6  24/02/2016 02:09:59 PM   \n",
       "1130  216.58.209.130        80         6  24/02/2016 02:11:31 PM   \n",
       "3627   195.138.255.8        80         6  24/02/2016 02:25:07 PM   \n",
       "4241  68.171.169.171        80         6  24/02/2016 01:37:02 PM   \n",
       "4242  174.123.37.171        80         6  24/02/2016 01:37:02 PM   \n",
       "\n",
       "      Flow Duration  Total Fwd Packet  Total Bwd packets  ...  \\\n",
       "1087        2385503                 3                  0  ...   \n",
       "1130           2535                 1                  1  ...   \n",
       "3627           4316                 1                  1  ...   \n",
       "4241          12951                 2                  0  ...   \n",
       "4242          17742                 2                  0  ...   \n",
       "\n",
       "      Fwd Act Data Pkts  Fwd Seg Size Min  Active Mean  Active Std  \\\n",
       "1087                  1                20            0           0   \n",
       "1130                  0                20            0           0   \n",
       "3627                  0                20            0           0   \n",
       "4241                  0                20            0           0   \n",
       "4242                  0                20            0           0   \n",
       "\n",
       "      Active Max  Active Min  Idle Mean  Idle Std  Label   Label.1  \n",
       "1087           0           0        0.0       0.0      0  BROWSING  \n",
       "1130           0           0        0.0       0.0      0  BROWSING  \n",
       "3627           0           0        0.0       0.0      0  BROWSING  \n",
       "4241           0           0        0.0       0.0      0  BROWSING  \n",
       "4242           0           0        0.0       0.0      0  BROWSING  \n",
       "\n",
       "[5 rows x 61 columns]"
      ]
     },
     "execution_count": 36,
     "metadata": {},
     "output_type": "execute_result"
    }
   ],
   "source": [
    "#Dropping the outliers\n",
    "df_new = data[~((data < (Q1 - 1.5*IQR)) | (data > (Q3 + 1.5*IQR))).any(axis=1)]\n",
    "df_new.head()"
   ]
  },
  {
   "cell_type": "code",
   "execution_count": 37,
   "id": "ec0eb4f3",
   "metadata": {},
   "outputs": [
    {
     "data": {
      "text/plain": [
       "(9014, 61)"
      ]
     },
     "execution_count": 37,
     "metadata": {},
     "output_type": "execute_result"
    }
   ],
   "source": [
    "df_new.shape"
   ]
  },
  {
   "cell_type": "code",
   "execution_count": null,
   "id": "2a43078c",
   "metadata": {},
   "outputs": [],
   "source": [
    "# Feature Engineering and selection"
   ]
  },
  {
   "cell_type": "code",
   "execution_count": 38,
   "id": "7033b513",
   "metadata": {},
   "outputs": [
    {
     "data": {
      "text/html": [
       "<div>\n",
       "<style scoped>\n",
       "    .dataframe tbody tr th:only-of-type {\n",
       "        vertical-align: middle;\n",
       "    }\n",
       "\n",
       "    .dataframe tbody tr th {\n",
       "        vertical-align: top;\n",
       "    }\n",
       "\n",
       "    .dataframe thead th {\n",
       "        text-align: right;\n",
       "    }\n",
       "</style>\n",
       "<table border=\"1\" class=\"dataframe\">\n",
       "  <thead>\n",
       "    <tr style=\"text-align: right;\">\n",
       "      <th></th>\n",
       "      <th>Flow ID</th>\n",
       "      <th>Src IP</th>\n",
       "      <th>Src Port</th>\n",
       "      <th>Dst IP</th>\n",
       "      <th>Dst Port</th>\n",
       "      <th>Protocol</th>\n",
       "      <th>Timestamp</th>\n",
       "      <th>Flow Duration</th>\n",
       "      <th>Total Fwd Packet</th>\n",
       "      <th>Total Bwd packets</th>\n",
       "      <th>...</th>\n",
       "      <th>Fwd Act Data Pkts</th>\n",
       "      <th>Fwd Seg Size Min</th>\n",
       "      <th>Active Mean</th>\n",
       "      <th>Active Std</th>\n",
       "      <th>Active Max</th>\n",
       "      <th>Active Min</th>\n",
       "      <th>Idle Mean</th>\n",
       "      <th>Idle Std</th>\n",
       "      <th>Label</th>\n",
       "      <th>Label.1</th>\n",
       "    </tr>\n",
       "  </thead>\n",
       "  <tbody>\n",
       "    <tr>\n",
       "      <th>1087</th>\n",
       "      <td>10.152.152.11-37.252.170.75-47033-443-6</td>\n",
       "      <td>10.152.152.11</td>\n",
       "      <td>47033</td>\n",
       "      <td>37.252.170.75</td>\n",
       "      <td>443</td>\n",
       "      <td>6</td>\n",
       "      <td>24/02/2016 02:09:59 PM</td>\n",
       "      <td>2385503</td>\n",
       "      <td>3</td>\n",
       "      <td>0</td>\n",
       "      <td>...</td>\n",
       "      <td>1</td>\n",
       "      <td>20</td>\n",
       "      <td>0</td>\n",
       "      <td>0</td>\n",
       "      <td>0</td>\n",
       "      <td>0</td>\n",
       "      <td>0.0</td>\n",
       "      <td>0.0</td>\n",
       "      <td>0</td>\n",
       "      <td>BROWSING</td>\n",
       "    </tr>\n",
       "    <tr>\n",
       "      <th>1130</th>\n",
       "      <td>10.152.152.11-216.58.209.130-41698-80-6</td>\n",
       "      <td>10.152.152.11</td>\n",
       "      <td>41698</td>\n",
       "      <td>216.58.209.130</td>\n",
       "      <td>80</td>\n",
       "      <td>6</td>\n",
       "      <td>24/02/2016 02:11:31 PM</td>\n",
       "      <td>2535</td>\n",
       "      <td>1</td>\n",
       "      <td>1</td>\n",
       "      <td>...</td>\n",
       "      <td>0</td>\n",
       "      <td>20</td>\n",
       "      <td>0</td>\n",
       "      <td>0</td>\n",
       "      <td>0</td>\n",
       "      <td>0</td>\n",
       "      <td>0.0</td>\n",
       "      <td>0.0</td>\n",
       "      <td>0</td>\n",
       "      <td>BROWSING</td>\n",
       "    </tr>\n",
       "    <tr>\n",
       "      <th>3627</th>\n",
       "      <td>10.152.152.11-195.138.255.8-37790-80-6</td>\n",
       "      <td>10.152.152.11</td>\n",
       "      <td>37790</td>\n",
       "      <td>195.138.255.8</td>\n",
       "      <td>80</td>\n",
       "      <td>6</td>\n",
       "      <td>24/02/2016 02:25:07 PM</td>\n",
       "      <td>4316</td>\n",
       "      <td>1</td>\n",
       "      <td>1</td>\n",
       "      <td>...</td>\n",
       "      <td>0</td>\n",
       "      <td>20</td>\n",
       "      <td>0</td>\n",
       "      <td>0</td>\n",
       "      <td>0</td>\n",
       "      <td>0</td>\n",
       "      <td>0.0</td>\n",
       "      <td>0.0</td>\n",
       "      <td>0</td>\n",
       "      <td>BROWSING</td>\n",
       "    </tr>\n",
       "    <tr>\n",
       "      <th>4241</th>\n",
       "      <td>10.152.152.11-68.171.169.171-58871-80-6</td>\n",
       "      <td>10.152.152.11</td>\n",
       "      <td>58871</td>\n",
       "      <td>68.171.169.171</td>\n",
       "      <td>80</td>\n",
       "      <td>6</td>\n",
       "      <td>24/02/2016 01:37:02 PM</td>\n",
       "      <td>12951</td>\n",
       "      <td>2</td>\n",
       "      <td>0</td>\n",
       "      <td>...</td>\n",
       "      <td>0</td>\n",
       "      <td>20</td>\n",
       "      <td>0</td>\n",
       "      <td>0</td>\n",
       "      <td>0</td>\n",
       "      <td>0</td>\n",
       "      <td>0.0</td>\n",
       "      <td>0.0</td>\n",
       "      <td>0</td>\n",
       "      <td>BROWSING</td>\n",
       "    </tr>\n",
       "    <tr>\n",
       "      <th>4242</th>\n",
       "      <td>10.152.152.11-174.123.37.171-45179-80-6</td>\n",
       "      <td>10.152.152.11</td>\n",
       "      <td>45179</td>\n",
       "      <td>174.123.37.171</td>\n",
       "      <td>80</td>\n",
       "      <td>6</td>\n",
       "      <td>24/02/2016 01:37:02 PM</td>\n",
       "      <td>17742</td>\n",
       "      <td>2</td>\n",
       "      <td>0</td>\n",
       "      <td>...</td>\n",
       "      <td>0</td>\n",
       "      <td>20</td>\n",
       "      <td>0</td>\n",
       "      <td>0</td>\n",
       "      <td>0</td>\n",
       "      <td>0</td>\n",
       "      <td>0.0</td>\n",
       "      <td>0.0</td>\n",
       "      <td>0</td>\n",
       "      <td>BROWSING</td>\n",
       "    </tr>\n",
       "  </tbody>\n",
       "</table>\n",
       "<p>5 rows × 61 columns</p>\n",
       "</div>"
      ],
      "text/plain": [
       "                                      Flow ID         Src IP  Src Port  \\\n",
       "1087  10.152.152.11-37.252.170.75-47033-443-6  10.152.152.11     47033   \n",
       "1130  10.152.152.11-216.58.209.130-41698-80-6  10.152.152.11     41698   \n",
       "3627   10.152.152.11-195.138.255.8-37790-80-6  10.152.152.11     37790   \n",
       "4241  10.152.152.11-68.171.169.171-58871-80-6  10.152.152.11     58871   \n",
       "4242  10.152.152.11-174.123.37.171-45179-80-6  10.152.152.11     45179   \n",
       "\n",
       "              Dst IP  Dst Port  Protocol               Timestamp  \\\n",
       "1087   37.252.170.75       443         6  24/02/2016 02:09:59 PM   \n",
       "1130  216.58.209.130        80         6  24/02/2016 02:11:31 PM   \n",
       "3627   195.138.255.8        80         6  24/02/2016 02:25:07 PM   \n",
       "4241  68.171.169.171        80         6  24/02/2016 01:37:02 PM   \n",
       "4242  174.123.37.171        80         6  24/02/2016 01:37:02 PM   \n",
       "\n",
       "      Flow Duration  Total Fwd Packet  Total Bwd packets  ...  \\\n",
       "1087        2385503                 3                  0  ...   \n",
       "1130           2535                 1                  1  ...   \n",
       "3627           4316                 1                  1  ...   \n",
       "4241          12951                 2                  0  ...   \n",
       "4242          17742                 2                  0  ...   \n",
       "\n",
       "      Fwd Act Data Pkts  Fwd Seg Size Min  Active Mean  Active Std  \\\n",
       "1087                  1                20            0           0   \n",
       "1130                  0                20            0           0   \n",
       "3627                  0                20            0           0   \n",
       "4241                  0                20            0           0   \n",
       "4242                  0                20            0           0   \n",
       "\n",
       "      Active Max  Active Min  Idle Mean  Idle Std  Label   Label.1  \n",
       "1087           0           0        0.0       0.0      0  BROWSING  \n",
       "1130           0           0        0.0       0.0      0  BROWSING  \n",
       "3627           0           0        0.0       0.0      0  BROWSING  \n",
       "4241           0           0        0.0       0.0      0  BROWSING  \n",
       "4242           0           0        0.0       0.0      0  BROWSING  \n",
       "\n",
       "[5 rows x 61 columns]"
      ]
     },
     "execution_count": 38,
     "metadata": {},
     "output_type": "execute_result"
    }
   ],
   "source": [
    "df_new.head()\n"
   ]
  },
  {
   "cell_type": "code",
   "execution_count": 39,
   "id": "4b0a6c1f",
   "metadata": {},
   "outputs": [
    {
     "name": "stdout",
     "output_type": "stream",
     "text": [
      "Index(['Flow ID', 'Src IP', 'Src Port', 'Dst IP', 'Dst Port', 'Protocol',\n",
      "       'Timestamp', 'Flow Duration', 'Total Fwd Packet', 'Total Bwd packets',\n",
      "       'Total Length of Fwd Packet', 'Fwd Packet Length Max',\n",
      "       'Fwd Packet Length Min', 'Fwd Packet Length Mean',\n",
      "       'Bwd Packet Length Max', 'Bwd Packet Length Min',\n",
      "       'Bwd Packet Length Mean', 'Flow Bytes/s', 'Flow Packets/s',\n",
      "       'Flow IAT Mean', 'Flow IAT Std', 'Flow IAT Min', 'Fwd IAT Std',\n",
      "       'Fwd IAT Min', 'Bwd IAT Std', 'Bwd IAT Max', 'Bwd IAT Min',\n",
      "       'Fwd PSH Flags', 'Bwd PSH Flags', 'Fwd URG Flags', 'Bwd URG Flags',\n",
      "       'Packet Length Min', 'Packet Length Mean', 'Packet Length Variance',\n",
      "       'FIN Flag Count', 'SYN Flag Count', 'RST Flag Count', 'PSH Flag Count',\n",
      "       'URG Flag Count', 'CWE Flag Count', 'ECE Flag Count', 'Down/Up Ratio',\n",
      "       'Fwd Bytes/Bulk Avg', 'Fwd Packet/Bulk Avg', 'Fwd Bulk Rate Avg',\n",
      "       'Bwd Bytes/Bulk Avg', 'Bwd Bulk Rate Avg', 'Subflow Fwd Packets',\n",
      "       'Subflow Bwd Packets', 'FWD Init Win Bytes', 'Bwd Init Win Bytes',\n",
      "       'Fwd Act Data Pkts', 'Fwd Seg Size Min', 'Active Mean', 'Active Std',\n",
      "       'Active Max', 'Active Min', 'Idle Mean', 'Idle Std', 'Label',\n",
      "       'Label.1'],\n",
      "      dtype='object')\n"
     ]
    }
   ],
   "source": [
    "print(df_new.columns[:])"
   ]
  },
  {
   "cell_type": "code",
   "execution_count": null,
   "id": "56126125",
   "metadata": {},
   "outputs": [],
   "source": [
    "## Dropping Features"
   ]
  },
  {
   "cell_type": "code",
   "execution_count": 40,
   "id": "32ddcc5c",
   "metadata": {},
   "outputs": [],
   "source": [
    "#from the above set of the features , The below features can discarded as those less importance and cannot contribute to the \n",
    "#desired prediction task\n",
    "\n",
    "#1 Flow ID\n",
    "#2 Src IP   \n",
    "#3 Dst IP  \n",
    "#4 Timestamp\n",
    "\n",
    "X2= df_new\n",
    "X = df_new[df_new.columns[:-1]]\n",
    "X=X.drop(['Flow ID','Src IP','Dst IP','Timestamp'],axis=1)\n",
    "X2=X2.drop(['Flow ID','Src IP','Dst IP','Timestamp'],axis=1)\n",
    "X_col_names=X.columns"
   ]
  },
  {
   "cell_type": "code",
   "execution_count": null,
   "id": "d30d7357",
   "metadata": {},
   "outputs": [],
   "source": [
    "#Anomaly Detection using Isolation Forest"
   ]
  },
  {
   "cell_type": "code",
   "execution_count": 41,
   "id": "90db6099",
   "metadata": {},
   "outputs": [
    {
     "name": "stdout",
     "output_type": "stream",
     "text": [
      "Result of Src Port:\n",
      "{'bootstrap': False, 'contamination': 0.2, 'max_features': 1.0, 'max_samples': 'auto', 'n_estimators': 100, 'n_jobs': None, 'random_state': RandomState(MT19937) at 0x7F9EEF9F3240, 'verbose': 0, 'warm_start': False}\n",
      "Result of Dst Port:\n",
      "{'bootstrap': False, 'contamination': 0.2, 'max_features': 1.0, 'max_samples': 'auto', 'n_estimators': 100, 'n_jobs': None, 'random_state': RandomState(MT19937) at 0x7F9EEF9F3240, 'verbose': 0, 'warm_start': False}\n",
      "Result of Protocol:\n",
      "{'bootstrap': False, 'contamination': 0.2, 'max_features': 1.0, 'max_samples': 'auto', 'n_estimators': 100, 'n_jobs': None, 'random_state': RandomState(MT19937) at 0x7F9EEF9F3240, 'verbose': 0, 'warm_start': False}\n",
      "Result of Flow Duration:\n",
      "{'bootstrap': False, 'contamination': 0.2, 'max_features': 1.0, 'max_samples': 'auto', 'n_estimators': 100, 'n_jobs': None, 'random_state': RandomState(MT19937) at 0x7F9EEF9F3240, 'verbose': 0, 'warm_start': False}\n",
      "Result of Total Fwd Packet:\n",
      "{'bootstrap': False, 'contamination': 0.2, 'max_features': 1.0, 'max_samples': 'auto', 'n_estimators': 100, 'n_jobs': None, 'random_state': RandomState(MT19937) at 0x7F9EEF9F3240, 'verbose': 0, 'warm_start': False}\n",
      "Result of Total Bwd packets:\n",
      "{'bootstrap': False, 'contamination': 0.2, 'max_features': 1.0, 'max_samples': 'auto', 'n_estimators': 100, 'n_jobs': None, 'random_state': RandomState(MT19937) at 0x7F9EEF9F3240, 'verbose': 0, 'warm_start': False}\n",
      "Result of Total Length of Fwd Packet:\n",
      "{'bootstrap': False, 'contamination': 0.2, 'max_features': 1.0, 'max_samples': 'auto', 'n_estimators': 100, 'n_jobs': None, 'random_state': RandomState(MT19937) at 0x7F9EEF9F3240, 'verbose': 0, 'warm_start': False}\n",
      "Result of Fwd Packet Length Max:\n",
      "{'bootstrap': False, 'contamination': 0.2, 'max_features': 1.0, 'max_samples': 'auto', 'n_estimators': 100, 'n_jobs': None, 'random_state': RandomState(MT19937) at 0x7F9EEF9F3240, 'verbose': 0, 'warm_start': False}\n",
      "Result of Fwd Packet Length Min:\n",
      "{'bootstrap': False, 'contamination': 0.2, 'max_features': 1.0, 'max_samples': 'auto', 'n_estimators': 100, 'n_jobs': None, 'random_state': RandomState(MT19937) at 0x7F9EEF9F3240, 'verbose': 0, 'warm_start': False}\n",
      "Result of Fwd Packet Length Mean:\n",
      "{'bootstrap': False, 'contamination': 0.2, 'max_features': 1.0, 'max_samples': 'auto', 'n_estimators': 100, 'n_jobs': None, 'random_state': RandomState(MT19937) at 0x7F9EEF9F3240, 'verbose': 0, 'warm_start': False}\n",
      "Result of Bwd Packet Length Max:\n",
      "{'bootstrap': False, 'contamination': 0.2, 'max_features': 1.0, 'max_samples': 'auto', 'n_estimators': 100, 'n_jobs': None, 'random_state': RandomState(MT19937) at 0x7F9EEF9F3240, 'verbose': 0, 'warm_start': False}\n",
      "Result of Bwd Packet Length Min:\n",
      "{'bootstrap': False, 'contamination': 0.2, 'max_features': 1.0, 'max_samples': 'auto', 'n_estimators': 100, 'n_jobs': None, 'random_state': RandomState(MT19937) at 0x7F9EEF9F3240, 'verbose': 0, 'warm_start': False}\n",
      "Result of Bwd Packet Length Mean:\n",
      "{'bootstrap': False, 'contamination': 0.2, 'max_features': 1.0, 'max_samples': 'auto', 'n_estimators': 100, 'n_jobs': None, 'random_state': RandomState(MT19937) at 0x7F9EEF9F3240, 'verbose': 0, 'warm_start': False}\n",
      "Result of Flow Bytes/s:\n",
      "{'bootstrap': False, 'contamination': 0.2, 'max_features': 1.0, 'max_samples': 'auto', 'n_estimators': 100, 'n_jobs': None, 'random_state': RandomState(MT19937) at 0x7F9EEF9F3240, 'verbose': 0, 'warm_start': False}\n",
      "Result of Flow Packets/s:\n",
      "{'bootstrap': False, 'contamination': 0.2, 'max_features': 1.0, 'max_samples': 'auto', 'n_estimators': 100, 'n_jobs': None, 'random_state': RandomState(MT19937) at 0x7F9EEF9F3240, 'verbose': 0, 'warm_start': False}\n",
      "Result of Flow IAT Mean:\n",
      "{'bootstrap': False, 'contamination': 0.2, 'max_features': 1.0, 'max_samples': 'auto', 'n_estimators': 100, 'n_jobs': None, 'random_state': RandomState(MT19937) at 0x7F9EEF9F3240, 'verbose': 0, 'warm_start': False}\n",
      "Result of Flow IAT Std:\n",
      "{'bootstrap': False, 'contamination': 0.2, 'max_features': 1.0, 'max_samples': 'auto', 'n_estimators': 100, 'n_jobs': None, 'random_state': RandomState(MT19937) at 0x7F9EEF9F3240, 'verbose': 0, 'warm_start': False}\n",
      "Result of Flow IAT Min:\n",
      "{'bootstrap': False, 'contamination': 0.2, 'max_features': 1.0, 'max_samples': 'auto', 'n_estimators': 100, 'n_jobs': None, 'random_state': RandomState(MT19937) at 0x7F9EEF9F3240, 'verbose': 0, 'warm_start': False}\n",
      "Result of Fwd IAT Std:\n",
      "{'bootstrap': False, 'contamination': 0.2, 'max_features': 1.0, 'max_samples': 'auto', 'n_estimators': 100, 'n_jobs': None, 'random_state': RandomState(MT19937) at 0x7F9EEF9F3240, 'verbose': 0, 'warm_start': False}\n",
      "Result of Fwd IAT Min:\n",
      "{'bootstrap': False, 'contamination': 0.2, 'max_features': 1.0, 'max_samples': 'auto', 'n_estimators': 100, 'n_jobs': None, 'random_state': RandomState(MT19937) at 0x7F9EEF9F3240, 'verbose': 0, 'warm_start': False}\n",
      "Result of Bwd IAT Std:\n",
      "{'bootstrap': False, 'contamination': 0.2, 'max_features': 1.0, 'max_samples': 'auto', 'n_estimators': 100, 'n_jobs': None, 'random_state': RandomState(MT19937) at 0x7F9EEF9F3240, 'verbose': 0, 'warm_start': False}\n",
      "Result of Bwd IAT Max:\n",
      "{'bootstrap': False, 'contamination': 0.2, 'max_features': 1.0, 'max_samples': 'auto', 'n_estimators': 100, 'n_jobs': None, 'random_state': RandomState(MT19937) at 0x7F9EEF9F3240, 'verbose': 0, 'warm_start': False}\n",
      "Result of Bwd IAT Min:\n",
      "{'bootstrap': False, 'contamination': 0.2, 'max_features': 1.0, 'max_samples': 'auto', 'n_estimators': 100, 'n_jobs': None, 'random_state': RandomState(MT19937) at 0x7F9EEF9F3240, 'verbose': 0, 'warm_start': False}\n",
      "Result of Fwd PSH Flags:\n",
      "{'bootstrap': False, 'contamination': 0.2, 'max_features': 1.0, 'max_samples': 'auto', 'n_estimators': 100, 'n_jobs': None, 'random_state': RandomState(MT19937) at 0x7F9EEF9F3240, 'verbose': 0, 'warm_start': False}\n",
      "Result of Bwd PSH Flags:\n",
      "{'bootstrap': False, 'contamination': 0.2, 'max_features': 1.0, 'max_samples': 'auto', 'n_estimators': 100, 'n_jobs': None, 'random_state': RandomState(MT19937) at 0x7F9EEF9F3240, 'verbose': 0, 'warm_start': False}\n",
      "Result of Fwd URG Flags:\n",
      "{'bootstrap': False, 'contamination': 0.2, 'max_features': 1.0, 'max_samples': 'auto', 'n_estimators': 100, 'n_jobs': None, 'random_state': RandomState(MT19937) at 0x7F9EEF9F3240, 'verbose': 0, 'warm_start': False}\n",
      "Result of Bwd URG Flags:\n",
      "{'bootstrap': False, 'contamination': 0.2, 'max_features': 1.0, 'max_samples': 'auto', 'n_estimators': 100, 'n_jobs': None, 'random_state': RandomState(MT19937) at 0x7F9EEF9F3240, 'verbose': 0, 'warm_start': False}\n",
      "Result of Packet Length Min:\n",
      "{'bootstrap': False, 'contamination': 0.2, 'max_features': 1.0, 'max_samples': 'auto', 'n_estimators': 100, 'n_jobs': None, 'random_state': RandomState(MT19937) at 0x7F9EEF9F3240, 'verbose': 0, 'warm_start': False}\n",
      "Result of Packet Length Mean:\n",
      "{'bootstrap': False, 'contamination': 0.2, 'max_features': 1.0, 'max_samples': 'auto', 'n_estimators': 100, 'n_jobs': None, 'random_state': RandomState(MT19937) at 0x7F9EEF9F3240, 'verbose': 0, 'warm_start': False}\n",
      "Result of Packet Length Variance:\n",
      "{'bootstrap': False, 'contamination': 0.2, 'max_features': 1.0, 'max_samples': 'auto', 'n_estimators': 100, 'n_jobs': None, 'random_state': RandomState(MT19937) at 0x7F9EEF9F3240, 'verbose': 0, 'warm_start': False}\n",
      "Result of FIN Flag Count:\n",
      "{'bootstrap': False, 'contamination': 0.2, 'max_features': 1.0, 'max_samples': 'auto', 'n_estimators': 100, 'n_jobs': None, 'random_state': RandomState(MT19937) at 0x7F9EEF9F3240, 'verbose': 0, 'warm_start': False}\n",
      "Result of SYN Flag Count:\n",
      "{'bootstrap': False, 'contamination': 0.2, 'max_features': 1.0, 'max_samples': 'auto', 'n_estimators': 100, 'n_jobs': None, 'random_state': RandomState(MT19937) at 0x7F9EEF9F3240, 'verbose': 0, 'warm_start': False}\n",
      "Result of RST Flag Count:\n",
      "{'bootstrap': False, 'contamination': 0.2, 'max_features': 1.0, 'max_samples': 'auto', 'n_estimators': 100, 'n_jobs': None, 'random_state': RandomState(MT19937) at 0x7F9EEF9F3240, 'verbose': 0, 'warm_start': False}\n",
      "Result of PSH Flag Count:\n",
      "{'bootstrap': False, 'contamination': 0.2, 'max_features': 1.0, 'max_samples': 'auto', 'n_estimators': 100, 'n_jobs': None, 'random_state': RandomState(MT19937) at 0x7F9EEF9F3240, 'verbose': 0, 'warm_start': False}\n",
      "Result of URG Flag Count:\n",
      "{'bootstrap': False, 'contamination': 0.2, 'max_features': 1.0, 'max_samples': 'auto', 'n_estimators': 100, 'n_jobs': None, 'random_state': RandomState(MT19937) at 0x7F9EEF9F3240, 'verbose': 0, 'warm_start': False}\n",
      "Result of CWE Flag Count:\n",
      "{'bootstrap': False, 'contamination': 0.2, 'max_features': 1.0, 'max_samples': 'auto', 'n_estimators': 100, 'n_jobs': None, 'random_state': RandomState(MT19937) at 0x7F9EEF9F3240, 'verbose': 0, 'warm_start': False}\n",
      "Result of ECE Flag Count:\n",
      "{'bootstrap': False, 'contamination': 0.2, 'max_features': 1.0, 'max_samples': 'auto', 'n_estimators': 100, 'n_jobs': None, 'random_state': RandomState(MT19937) at 0x7F9EEF9F3240, 'verbose': 0, 'warm_start': False}\n",
      "Result of Down/Up Ratio:\n",
      "{'bootstrap': False, 'contamination': 0.2, 'max_features': 1.0, 'max_samples': 'auto', 'n_estimators': 100, 'n_jobs': None, 'random_state': RandomState(MT19937) at 0x7F9EEF9F3240, 'verbose': 0, 'warm_start': False}\n",
      "Result of Fwd Bytes/Bulk Avg:\n",
      "{'bootstrap': False, 'contamination': 0.2, 'max_features': 1.0, 'max_samples': 'auto', 'n_estimators': 100, 'n_jobs': None, 'random_state': RandomState(MT19937) at 0x7F9EEF9F3240, 'verbose': 0, 'warm_start': False}\n",
      "Result of Fwd Packet/Bulk Avg:\n",
      "{'bootstrap': False, 'contamination': 0.2, 'max_features': 1.0, 'max_samples': 'auto', 'n_estimators': 100, 'n_jobs': None, 'random_state': RandomState(MT19937) at 0x7F9EEF9F3240, 'verbose': 0, 'warm_start': False}\n",
      "Result of Fwd Bulk Rate Avg:\n",
      "{'bootstrap': False, 'contamination': 0.2, 'max_features': 1.0, 'max_samples': 'auto', 'n_estimators': 100, 'n_jobs': None, 'random_state': RandomState(MT19937) at 0x7F9EEF9F3240, 'verbose': 0, 'warm_start': False}\n",
      "Result of Bwd Bytes/Bulk Avg:\n",
      "{'bootstrap': False, 'contamination': 0.2, 'max_features': 1.0, 'max_samples': 'auto', 'n_estimators': 100, 'n_jobs': None, 'random_state': RandomState(MT19937) at 0x7F9EEF9F3240, 'verbose': 0, 'warm_start': False}\n",
      "Result of Bwd Bulk Rate Avg:\n",
      "{'bootstrap': False, 'contamination': 0.2, 'max_features': 1.0, 'max_samples': 'auto', 'n_estimators': 100, 'n_jobs': None, 'random_state': RandomState(MT19937) at 0x7F9EEF9F3240, 'verbose': 0, 'warm_start': False}\n",
      "Result of Subflow Fwd Packets:\n",
      "{'bootstrap': False, 'contamination': 0.2, 'max_features': 1.0, 'max_samples': 'auto', 'n_estimators': 100, 'n_jobs': None, 'random_state': RandomState(MT19937) at 0x7F9EEF9F3240, 'verbose': 0, 'warm_start': False}\n",
      "Result of Subflow Bwd Packets:\n",
      "{'bootstrap': False, 'contamination': 0.2, 'max_features': 1.0, 'max_samples': 'auto', 'n_estimators': 100, 'n_jobs': None, 'random_state': RandomState(MT19937) at 0x7F9EEF9F3240, 'verbose': 0, 'warm_start': False}\n",
      "Result of FWD Init Win Bytes:\n",
      "{'bootstrap': False, 'contamination': 0.2, 'max_features': 1.0, 'max_samples': 'auto', 'n_estimators': 100, 'n_jobs': None, 'random_state': RandomState(MT19937) at 0x7F9EEF9F3240, 'verbose': 0, 'warm_start': False}\n",
      "Result of Bwd Init Win Bytes:\n",
      "{'bootstrap': False, 'contamination': 0.2, 'max_features': 1.0, 'max_samples': 'auto', 'n_estimators': 100, 'n_jobs': None, 'random_state': RandomState(MT19937) at 0x7F9EEF9F3240, 'verbose': 0, 'warm_start': False}\n",
      "Result of Fwd Act Data Pkts:\n",
      "{'bootstrap': False, 'contamination': 0.2, 'max_features': 1.0, 'max_samples': 'auto', 'n_estimators': 100, 'n_jobs': None, 'random_state': RandomState(MT19937) at 0x7F9EEF9F3240, 'verbose': 0, 'warm_start': False}\n",
      "Result of Fwd Seg Size Min:\n",
      "{'bootstrap': False, 'contamination': 0.2, 'max_features': 1.0, 'max_samples': 'auto', 'n_estimators': 100, 'n_jobs': None, 'random_state': RandomState(MT19937) at 0x7F9EEF9F3240, 'verbose': 0, 'warm_start': False}\n",
      "Result of Active Mean:\n",
      "{'bootstrap': False, 'contamination': 0.2, 'max_features': 1.0, 'max_samples': 'auto', 'n_estimators': 100, 'n_jobs': None, 'random_state': RandomState(MT19937) at 0x7F9EEF9F3240, 'verbose': 0, 'warm_start': False}\n",
      "Result of Active Std:\n",
      "{'bootstrap': False, 'contamination': 0.2, 'max_features': 1.0, 'max_samples': 'auto', 'n_estimators': 100, 'n_jobs': None, 'random_state': RandomState(MT19937) at 0x7F9EEF9F3240, 'verbose': 0, 'warm_start': False}\n",
      "Result of Active Max:\n",
      "{'bootstrap': False, 'contamination': 0.2, 'max_features': 1.0, 'max_samples': 'auto', 'n_estimators': 100, 'n_jobs': None, 'random_state': RandomState(MT19937) at 0x7F9EEF9F3240, 'verbose': 0, 'warm_start': False}\n",
      "Result of Active Min:\n",
      "{'bootstrap': False, 'contamination': 0.2, 'max_features': 1.0, 'max_samples': 'auto', 'n_estimators': 100, 'n_jobs': None, 'random_state': RandomState(MT19937) at 0x7F9EEF9F3240, 'verbose': 0, 'warm_start': False}\n",
      "Result of Idle Mean:\n",
      "{'bootstrap': False, 'contamination': 0.2, 'max_features': 1.0, 'max_samples': 'auto', 'n_estimators': 100, 'n_jobs': None, 'random_state': RandomState(MT19937) at 0x7F9EEF9F3240, 'verbose': 0, 'warm_start': False}\n",
      "Result of Idle Std:\n",
      "{'bootstrap': False, 'contamination': 0.2, 'max_features': 1.0, 'max_samples': 'auto', 'n_estimators': 100, 'n_jobs': None, 'random_state': RandomState(MT19937) at 0x7F9EEF9F3240, 'verbose': 0, 'warm_start': False}\n",
      "Result of Label:\n",
      "{'bootstrap': False, 'contamination': 0.2, 'max_features': 1.0, 'max_samples': 'auto', 'n_estimators': 100, 'n_jobs': None, 'random_state': RandomState(MT19937) at 0x7F9EEF9F3240, 'verbose': 0, 'warm_start': False}\n"
     ]
    }
   ],
   "source": [
    "from sklearn.ensemble import IsolationForest\n",
    "\n",
    "random_state = np.random.RandomState(42)\n",
    "\n",
    "model=IsolationForest(n_estimators=100,max_samples='auto',contamination=float(0.2),random_state=random_state)\n",
    "\n",
    "for col in X.columns:\n",
    "        model.fit(X[[col]])\n",
    "        print(\"Result of \" + col + \":\")\n",
    "        print(model.get_params())"
   ]
  },
  {
   "cell_type": "code",
   "execution_count": 42,
   "id": "2f4f7f0e",
   "metadata": {},
   "outputs": [
    {
     "name": "stdout",
     "output_type": "stream",
     "text": [
      "(9014, 56) (9014,)\n",
      "(52288, 56) (52288,)\n",
      "{5: 6536, 6: 6536, 7: 6536, 4: 6536, 2: 6536, 0: 6536, 3: 6536, 1: 6536}\n"
     ]
    }
   ],
   "source": [
    "from sklearn.model_selection import train_test_split\n",
    "from sklearn.feature_selection import SelectKBest, chi2, mutual_info_classif\n",
    "from sklearn import preprocessing \n",
    "import imblearn\n",
    "from imblearn.over_sampling import SMOTE\n",
    "\n",
    "# Splitting the features and the target classes\n",
    "Xn=np.asarray(X)[:]\n",
    "Y = df_new['Label.1'][:]\n",
    "\n",
    "# Encoding the labels of the Target classes\n",
    "le = preprocessing.LabelEncoder().fit(Y)\n",
    "Yn= Y = le.transform(Y)\n",
    "print(np.shape(Xn), np.shape(Yn))\n",
    "\n",
    "\n",
    "# Splitting the dataset into test train split\n",
    "X_train, X_test, y_train, y_test = train_test_split(Xn, Yn, test_size=0.20, shuffle=True)\n",
    "\n",
    "#applying SMOTE (Synthetic Minority Oversampling Technique) to overcome the imbalanced classification by to oversample the minority class\n",
    "smote= SMOTE('auto')\n",
    "X_sm,y_sm = smote.fit_resample(X_train, y_train)\n",
    "print(np.shape(X_sm), np.shape(y_sm))\n",
    "\n",
    "# saving the output labels in a dictionary format\n",
    "dic = {}\n",
    "for i in y_sm:\n",
    "    if i in dic.keys():\n",
    "        dic[i]+=1\n",
    "    else:\n",
    "        dic[i]=1\n",
    "print(dic)"
   ]
  },
  {
   "cell_type": "code",
   "execution_count": null,
   "id": "d3b09456",
   "metadata": {},
   "outputs": [],
   "source": [
    "# Selection of useful features using SelectKBest Class"
   ]
  },
  {
   "cell_type": "code",
   "execution_count": 43,
   "id": "a28f4474",
   "metadata": {},
   "outputs": [],
   "source": [
    "#SelectKBest class that can be used with a suite of different statistical tests  to select a specific number of features.\n",
    "#chi-squared (chi²) statistical test for non-negative features to select best useful features\n",
    "from sklearn.feature_selection import SelectKBest\n",
    "from sklearn.feature_selection import chi2\n",
    "\n",
    "X_ordered_rank_feat = SelectKBest(score_func=chi2, k='all')\n",
    "X_ordered_feat= X_ordered_rank_feat.fit(X_sm, y_sm)"
   ]
  },
  {
   "cell_type": "code",
   "execution_count": 44,
   "id": "39052264",
   "metadata": {},
   "outputs": [
    {
     "data": {
      "text/html": [
       "<div>\n",
       "<style scoped>\n",
       "    .dataframe tbody tr th:only-of-type {\n",
       "        vertical-align: middle;\n",
       "    }\n",
       "\n",
       "    .dataframe tbody tr th {\n",
       "        vertical-align: top;\n",
       "    }\n",
       "\n",
       "    .dataframe thead th {\n",
       "        text-align: right;\n",
       "    }\n",
       "</style>\n",
       "<table border=\"1\" class=\"dataframe\">\n",
       "  <thead>\n",
       "    <tr style=\"text-align: right;\">\n",
       "      <th></th>\n",
       "      <th>Features</th>\n",
       "      <th>Score</th>\n",
       "    </tr>\n",
       "  </thead>\n",
       "  <tbody>\n",
       "    <tr>\n",
       "      <th>53</th>\n",
       "      <td>Idle Mean</td>\n",
       "      <td>1.368875e+18</td>\n",
       "    </tr>\n",
       "    <tr>\n",
       "      <th>3</th>\n",
       "      <td>Flow Duration</td>\n",
       "      <td>6.341597e+09</td>\n",
       "    </tr>\n",
       "    <tr>\n",
       "      <th>18</th>\n",
       "      <td>Fwd IAT Std</td>\n",
       "      <td>6.161939e+09</td>\n",
       "    </tr>\n",
       "    <tr>\n",
       "      <th>16</th>\n",
       "      <td>Flow IAT Std</td>\n",
       "      <td>5.834522e+09</td>\n",
       "    </tr>\n",
       "    <tr>\n",
       "      <th>15</th>\n",
       "      <td>Flow IAT Mean</td>\n",
       "      <td>2.316748e+09</td>\n",
       "    </tr>\n",
       "    <tr>\n",
       "      <th>1</th>\n",
       "      <td>Dst Port</td>\n",
       "      <td>9.897979e+08</td>\n",
       "    </tr>\n",
       "    <tr>\n",
       "      <th>19</th>\n",
       "      <td>Fwd IAT Min</td>\n",
       "      <td>9.366745e+08</td>\n",
       "    </tr>\n",
       "    <tr>\n",
       "      <th>17</th>\n",
       "      <td>Flow IAT Min</td>\n",
       "      <td>3.329622e+08</td>\n",
       "    </tr>\n",
       "    <tr>\n",
       "      <th>45</th>\n",
       "      <td>FWD Init Win Bytes</td>\n",
       "      <td>2.410646e+08</td>\n",
       "    </tr>\n",
       "    <tr>\n",
       "      <th>0</th>\n",
       "      <td>Src Port</td>\n",
       "      <td>5.174495e+07</td>\n",
       "    </tr>\n",
       "    <tr>\n",
       "      <th>13</th>\n",
       "      <td>Flow Bytes/s</td>\n",
       "      <td>2.618155e+07</td>\n",
       "    </tr>\n",
       "    <tr>\n",
       "      <th>54</th>\n",
       "      <td>Idle Std</td>\n",
       "      <td>1.023082e+07</td>\n",
       "    </tr>\n",
       "    <tr>\n",
       "      <th>46</th>\n",
       "      <td>Bwd Init Win Bytes</td>\n",
       "      <td>6.678382e+06</td>\n",
       "    </tr>\n",
       "    <tr>\n",
       "      <th>29</th>\n",
       "      <td>Packet Length Variance</td>\n",
       "      <td>6.082941e+06</td>\n",
       "    </tr>\n",
       "    <tr>\n",
       "      <th>14</th>\n",
       "      <td>Flow Packets/s</td>\n",
       "      <td>4.239355e+06</td>\n",
       "    </tr>\n",
       "    <tr>\n",
       "      <th>6</th>\n",
       "      <td>Total Length of Fwd Packet</td>\n",
       "      <td>9.920000e+05</td>\n",
       "    </tr>\n",
       "    <tr>\n",
       "      <th>7</th>\n",
       "      <td>Fwd Packet Length Max</td>\n",
       "      <td>8.540495e+05</td>\n",
       "    </tr>\n",
       "    <tr>\n",
       "      <th>9</th>\n",
       "      <td>Fwd Packet Length Mean</td>\n",
       "      <td>3.986774e+05</td>\n",
       "    </tr>\n",
       "    <tr>\n",
       "      <th>28</th>\n",
       "      <td>Packet Length Mean</td>\n",
       "      <td>3.507309e+05</td>\n",
       "    </tr>\n",
       "    <tr>\n",
       "      <th>8</th>\n",
       "      <td>Fwd Packet Length Min</td>\n",
       "      <td>3.008929e+05</td>\n",
       "    </tr>\n",
       "    <tr>\n",
       "      <th>27</th>\n",
       "      <td>Packet Length Min</td>\n",
       "      <td>3.008929e+05</td>\n",
       "    </tr>\n",
       "    <tr>\n",
       "      <th>48</th>\n",
       "      <td>Fwd Seg Size Min</td>\n",
       "      <td>9.097574e+04</td>\n",
       "    </tr>\n",
       "    <tr>\n",
       "      <th>10</th>\n",
       "      <td>Bwd Packet Length Max</td>\n",
       "      <td>6.429510e+04</td>\n",
       "    </tr>\n",
       "    <tr>\n",
       "      <th>22</th>\n",
       "      <td>Bwd IAT Min</td>\n",
       "      <td>4.094372e+04</td>\n",
       "    </tr>\n",
       "    <tr>\n",
       "      <th>21</th>\n",
       "      <td>Bwd IAT Max</td>\n",
       "      <td>4.094372e+04</td>\n",
       "    </tr>\n",
       "    <tr>\n",
       "      <th>12</th>\n",
       "      <td>Bwd Packet Length Mean</td>\n",
       "      <td>3.214755e+04</td>\n",
       "    </tr>\n",
       "    <tr>\n",
       "      <th>47</th>\n",
       "      <td>Fwd Act Data Pkts</td>\n",
       "      <td>2.928638e+04</td>\n",
       "    </tr>\n",
       "    <tr>\n",
       "      <th>55</th>\n",
       "      <td>Label</td>\n",
       "      <td>2.637470e+04</td>\n",
       "    </tr>\n",
       "    <tr>\n",
       "      <th>33</th>\n",
       "      <td>PSH Flag Count</td>\n",
       "      <td>2.623954e+04</td>\n",
       "    </tr>\n",
       "    <tr>\n",
       "      <th>2</th>\n",
       "      <td>Protocol</td>\n",
       "      <td>1.831592e+04</td>\n",
       "    </tr>\n",
       "    <tr>\n",
       "      <th>37</th>\n",
       "      <td>Down/Up Ratio</td>\n",
       "      <td>1.663916e+04</td>\n",
       "    </tr>\n",
       "    <tr>\n",
       "      <th>5</th>\n",
       "      <td>Total Bwd packets</td>\n",
       "      <td>1.644637e+04</td>\n",
       "    </tr>\n",
       "    <tr>\n",
       "      <th>43</th>\n",
       "      <td>Subflow Fwd Packets</td>\n",
       "      <td>1.491175e+04</td>\n",
       "    </tr>\n",
       "    <tr>\n",
       "      <th>4</th>\n",
       "      <td>Total Fwd Packet</td>\n",
       "      <td>1.092246e+04</td>\n",
       "    </tr>\n",
       "    <tr>\n",
       "      <th>30</th>\n",
       "      <td>FIN Flag Count</td>\n",
       "      <td>2.782727e+03</td>\n",
       "    </tr>\n",
       "    <tr>\n",
       "      <th>11</th>\n",
       "      <td>Bwd Packet Length Min</td>\n",
       "      <td>NaN</td>\n",
       "    </tr>\n",
       "    <tr>\n",
       "      <th>20</th>\n",
       "      <td>Bwd IAT Std</td>\n",
       "      <td>NaN</td>\n",
       "    </tr>\n",
       "    <tr>\n",
       "      <th>23</th>\n",
       "      <td>Fwd PSH Flags</td>\n",
       "      <td>NaN</td>\n",
       "    </tr>\n",
       "    <tr>\n",
       "      <th>24</th>\n",
       "      <td>Bwd PSH Flags</td>\n",
       "      <td>NaN</td>\n",
       "    </tr>\n",
       "    <tr>\n",
       "      <th>25</th>\n",
       "      <td>Fwd URG Flags</td>\n",
       "      <td>NaN</td>\n",
       "    </tr>\n",
       "    <tr>\n",
       "      <th>26</th>\n",
       "      <td>Bwd URG Flags</td>\n",
       "      <td>NaN</td>\n",
       "    </tr>\n",
       "    <tr>\n",
       "      <th>31</th>\n",
       "      <td>SYN Flag Count</td>\n",
       "      <td>NaN</td>\n",
       "    </tr>\n",
       "    <tr>\n",
       "      <th>32</th>\n",
       "      <td>RST Flag Count</td>\n",
       "      <td>NaN</td>\n",
       "    </tr>\n",
       "    <tr>\n",
       "      <th>34</th>\n",
       "      <td>URG Flag Count</td>\n",
       "      <td>NaN</td>\n",
       "    </tr>\n",
       "    <tr>\n",
       "      <th>35</th>\n",
       "      <td>CWE Flag Count</td>\n",
       "      <td>NaN</td>\n",
       "    </tr>\n",
       "    <tr>\n",
       "      <th>36</th>\n",
       "      <td>ECE Flag Count</td>\n",
       "      <td>NaN</td>\n",
       "    </tr>\n",
       "    <tr>\n",
       "      <th>38</th>\n",
       "      <td>Fwd Bytes/Bulk Avg</td>\n",
       "      <td>NaN</td>\n",
       "    </tr>\n",
       "    <tr>\n",
       "      <th>39</th>\n",
       "      <td>Fwd Packet/Bulk Avg</td>\n",
       "      <td>NaN</td>\n",
       "    </tr>\n",
       "    <tr>\n",
       "      <th>40</th>\n",
       "      <td>Fwd Bulk Rate Avg</td>\n",
       "      <td>NaN</td>\n",
       "    </tr>\n",
       "    <tr>\n",
       "      <th>41</th>\n",
       "      <td>Bwd Bytes/Bulk Avg</td>\n",
       "      <td>NaN</td>\n",
       "    </tr>\n",
       "    <tr>\n",
       "      <th>42</th>\n",
       "      <td>Bwd Bulk Rate Avg</td>\n",
       "      <td>NaN</td>\n",
       "    </tr>\n",
       "    <tr>\n",
       "      <th>44</th>\n",
       "      <td>Subflow Bwd Packets</td>\n",
       "      <td>NaN</td>\n",
       "    </tr>\n",
       "    <tr>\n",
       "      <th>49</th>\n",
       "      <td>Active Mean</td>\n",
       "      <td>NaN</td>\n",
       "    </tr>\n",
       "    <tr>\n",
       "      <th>50</th>\n",
       "      <td>Active Std</td>\n",
       "      <td>NaN</td>\n",
       "    </tr>\n",
       "    <tr>\n",
       "      <th>51</th>\n",
       "      <td>Active Max</td>\n",
       "      <td>NaN</td>\n",
       "    </tr>\n",
       "    <tr>\n",
       "      <th>52</th>\n",
       "      <td>Active Min</td>\n",
       "      <td>NaN</td>\n",
       "    </tr>\n",
       "  </tbody>\n",
       "</table>\n",
       "</div>"
      ],
      "text/plain": [
       "                      Features         Score\n",
       "53                   Idle Mean  1.368875e+18\n",
       "3                Flow Duration  6.341597e+09\n",
       "18                 Fwd IAT Std  6.161939e+09\n",
       "16                Flow IAT Std  5.834522e+09\n",
       "15               Flow IAT Mean  2.316748e+09\n",
       "1                     Dst Port  9.897979e+08\n",
       "19                 Fwd IAT Min  9.366745e+08\n",
       "17                Flow IAT Min  3.329622e+08\n",
       "45          FWD Init Win Bytes  2.410646e+08\n",
       "0                     Src Port  5.174495e+07\n",
       "13                Flow Bytes/s  2.618155e+07\n",
       "54                    Idle Std  1.023082e+07\n",
       "46          Bwd Init Win Bytes  6.678382e+06\n",
       "29      Packet Length Variance  6.082941e+06\n",
       "14              Flow Packets/s  4.239355e+06\n",
       "6   Total Length of Fwd Packet  9.920000e+05\n",
       "7        Fwd Packet Length Max  8.540495e+05\n",
       "9       Fwd Packet Length Mean  3.986774e+05\n",
       "28          Packet Length Mean  3.507309e+05\n",
       "8        Fwd Packet Length Min  3.008929e+05\n",
       "27           Packet Length Min  3.008929e+05\n",
       "48            Fwd Seg Size Min  9.097574e+04\n",
       "10       Bwd Packet Length Max  6.429510e+04\n",
       "22                 Bwd IAT Min  4.094372e+04\n",
       "21                 Bwd IAT Max  4.094372e+04\n",
       "12      Bwd Packet Length Mean  3.214755e+04\n",
       "47           Fwd Act Data Pkts  2.928638e+04\n",
       "55                       Label  2.637470e+04\n",
       "33              PSH Flag Count  2.623954e+04\n",
       "2                     Protocol  1.831592e+04\n",
       "37               Down/Up Ratio  1.663916e+04\n",
       "5            Total Bwd packets  1.644637e+04\n",
       "43         Subflow Fwd Packets  1.491175e+04\n",
       "4             Total Fwd Packet  1.092246e+04\n",
       "30              FIN Flag Count  2.782727e+03\n",
       "11       Bwd Packet Length Min           NaN\n",
       "20                 Bwd IAT Std           NaN\n",
       "23               Fwd PSH Flags           NaN\n",
       "24               Bwd PSH Flags           NaN\n",
       "25               Fwd URG Flags           NaN\n",
       "26               Bwd URG Flags           NaN\n",
       "31              SYN Flag Count           NaN\n",
       "32              RST Flag Count           NaN\n",
       "34              URG Flag Count           NaN\n",
       "35              CWE Flag Count           NaN\n",
       "36              ECE Flag Count           NaN\n",
       "38          Fwd Bytes/Bulk Avg           NaN\n",
       "39         Fwd Packet/Bulk Avg           NaN\n",
       "40           Fwd Bulk Rate Avg           NaN\n",
       "41          Bwd Bytes/Bulk Avg           NaN\n",
       "42           Bwd Bulk Rate Avg           NaN\n",
       "44         Subflow Bwd Packets           NaN\n",
       "49                 Active Mean           NaN\n",
       "50                  Active Std           NaN\n",
       "51                  Active Max           NaN\n",
       "52                  Active Min           NaN"
      ]
     },
     "execution_count": 44,
     "metadata": {},
     "output_type": "execute_result"
    }
   ],
   "source": [
    "dfscores=pd.DataFrame(X_ordered_feat.scores_,columns=[\"Score\"])\n",
    "dfcolumns=pd.DataFrame(X_col_names)\n",
    "features_rank=pd.concat([dfcolumns,dfscores],axis=1)\n",
    "\n",
    "# Feature vs score i.e its effect on target variable\n",
    "features_rank.columns=['Features','Score']\n",
    "features_rank.sort_values(by=['Score'],ascending= False)"
   ]
  },
  {
   "cell_type": "code",
   "execution_count": null,
   "id": "1239cb91",
   "metadata": {},
   "outputs": [],
   "source": [
    "# Feature Importance"
   ]
  },
  {
   "cell_type": "code",
   "execution_count": 45,
   "id": "11b1443f",
   "metadata": {},
   "outputs": [
    {
     "data": {
      "text/plain": [
       "ExtraTreesClassifier()"
      ]
     },
     "execution_count": 45,
     "metadata": {},
     "output_type": "execute_result"
    }
   ],
   "source": [
    "#Feature importance is an inbuilt class that comes with Tree Based Classifiers, \n",
    "#we will be using Extra Tree Classifier for extracting the top 10 features for the dataset.\n",
    "from sklearn.ensemble import ExtraTreesClassifier\n",
    "import matplotlib.pyplot as plt\n",
    "model = ExtraTreesClassifier()\n",
    "model.fit(X_sm,y_sm)"
   ]
  },
  {
   "cell_type": "code",
   "execution_count": 46,
   "id": "9deaddec",
   "metadata": {},
   "outputs": [
    {
     "name": "stdout",
     "output_type": "stream",
     "text": [
      "[1.02667226e-01 8.75115867e-02 8.88756534e-03 3.92691571e-02\n",
      " 2.00406200e-02 1.57802794e-02 1.02427646e-02 1.76588262e-02\n",
      " 4.68101300e-03 9.71879440e-03 1.14158521e-03 0.00000000e+00\n",
      " 1.80085228e-03 2.00784504e-02 5.52656799e-02 4.32128606e-02\n",
      " 8.69922656e-03 5.12653977e-02 9.10828938e-03 2.71527897e-02\n",
      " 0.00000000e+00 7.39766290e-04 6.21532131e-04 0.00000000e+00\n",
      " 0.00000000e+00 0.00000000e+00 0.00000000e+00 2.80331588e-03\n",
      " 9.49496536e-03 1.27195038e-02 4.02852499e-02 0.00000000e+00\n",
      " 0.00000000e+00 2.25219127e-02 0.00000000e+00 0.00000000e+00\n",
      " 0.00000000e+00 1.54823615e-02 0.00000000e+00 0.00000000e+00\n",
      " 0.00000000e+00 0.00000000e+00 0.00000000e+00 3.26598106e-02\n",
      " 0.00000000e+00 6.82848650e-02 2.90795784e-02 1.58137980e-02\n",
      " 5.67701278e-02 0.00000000e+00 0.00000000e+00 0.00000000e+00\n",
      " 0.00000000e+00 6.31012509e-04 1.28524320e-04 1.57780711e-01]\n"
     ]
    }
   ],
   "source": [
    " #use inbuilt class feature_importances of tree based classifiers\n",
    "print(model.feature_importances_)"
   ]
  },
  {
   "cell_type": "code",
   "execution_count": 47,
   "id": "626fe21b",
   "metadata": {},
   "outputs": [
    {
     "data": {
      "image/png": "[encoded data removed]",
      "text/plain": [
       "<Figure size 432x288 with 1 Axes>"
      ]
     },
     "metadata": {
      "needs_background": "light"
     },
     "output_type": "display_data"
    }
   ],
   "source": [
    "#plot graph of feature importances for better visualization\n",
    "feat_importances = pd.Series(model.feature_importances_, index= X_col_names)\n",
    "feat_importances.nlargest(20).plot(kind='barh')\n",
    "plt.show()"
   ]
  },
  {
   "cell_type": "code",
   "execution_count": 48,
   "id": "683fba35",
   "metadata": {},
   "outputs": [],
   "source": [
    "# from the available top 20 features , most useful features are considered and were used for extermely important for model building \n",
    "\n",
    "feats=['Label' ,'Dst Port','Fwd Seg Size Min','Src Port','FWD Init Win Bytes','Total Fwd Packet','Bwd Init Win Bytes','Flow Duration', 'Flow IAT Mean','Total Bwd packets',\n",
    "'FIN Flag Count','Flow Bytes/s','Packet Length Mean','Total Length of Fwd Packet','Fwd Packet Length Mean','Down/Up Ratio','Fwd IAT Std','Packet Length Variance']\n"
   ]
  },
  {
   "cell_type": "code",
   "execution_count": null,
   "id": "5c0df5b4",
   "metadata": {},
   "outputs": [],
   "source": [
    "# PCA"
   ]
  },
  {
   "cell_type": "code",
   "execution_count": 49,
   "id": "dbace9ba",
   "metadata": {},
   "outputs": [],
   "source": [
    "\n",
    "from sklearn.preprocessing import StandardScaler\n",
    "from sklearn.decomposition import PCA"
   ]
  },
  {
   "cell_type": "code",
   "execution_count": 50,
   "id": "3f183643",
   "metadata": {},
   "outputs": [
    {
     "data": {
      "text/plain": [
       "(9014, 56)"
      ]
     },
     "execution_count": 50,
     "metadata": {},
     "output_type": "execute_result"
    }
   ],
   "source": [
    "scaler = StandardScaler()\n",
    "scaler.fit(X)\n",
    "scaled_data = scaler.transform(X)\n",
    "scaled_data.shape"
   ]
  },
  {
   "cell_type": "code",
   "execution_count": 51,
   "id": "12290dc4",
   "metadata": {},
   "outputs": [
    {
     "name": "stdout",
     "output_type": "stream",
     "text": [
      "(9014, 5)\n",
      "[0.24262792 0.17561692 0.12905467 0.092327   0.06891809]\n"
     ]
    }
   ],
   "source": [
    "pca = PCA(n_components=5)\n",
    "\n",
    "x_train_data_transformed = pca.fit_transform(scaled_data)\n",
    "\n",
    "print(x_train_data_transformed.shape)\n",
    "\n",
    "data_transformed = pd.DataFrame(x_train_data_transformed, columns = ['PCA1', 'PCA2','PCA3', 'PCA4','PCA5'])\n",
    "data_concat = pd.concat([df_new, data_transformed], axis = 1)\n",
    "\n",
    "\n",
    "#explained_variane\n",
    "print(pca.explained_variance_ratio_)"
   ]
  },
  {
   "cell_type": "code",
   "execution_count": 52,
   "id": "2e8db1b7",
   "metadata": {},
   "outputs": [
    {
     "data": {
      "text/plain": [
       "array([[-9.49640030e-02, -5.21816814e-02,  2.88836756e-01,\n",
       "         2.86173034e-02,  2.09013442e-03, -1.05249636e-02,\n",
       "         3.35340838e-01,  3.34712327e-01,  3.08349082e-01,\n",
       "         3.31102765e-01,  3.31061090e-02, -0.00000000e+00,\n",
       "         3.31061090e-02,  2.69443529e-01, -3.66292280e-03,\n",
       "         3.22041009e-02,  1.96955089e-02,  2.74900193e-02,\n",
       "         2.10900833e-02,  3.05988441e-02, -0.00000000e+00,\n",
       "         1.07827006e-02,  1.07827006e-02, -0.00000000e+00,\n",
       "        -0.00000000e+00, -0.00000000e+00, -0.00000000e+00,\n",
       "         3.08349082e-01,  3.29136221e-01,  1.99862200e-01,\n",
       "        -8.87464949e-02, -0.00000000e+00, -0.00000000e+00,\n",
       "         1.41668113e-01, -0.00000000e+00, -0.00000000e+00,\n",
       "        -0.00000000e+00, -1.30004098e-02, -0.00000000e+00,\n",
       "        -0.00000000e+00, -0.00000000e+00, -0.00000000e+00,\n",
       "        -0.00000000e+00,  1.57003571e-02, -0.00000000e+00,\n",
       "         8.02255747e-02, -4.16872597e-03,  3.06118846e-01,\n",
       "        -1.25492931e-01, -0.00000000e+00, -0.00000000e+00,\n",
       "        -0.00000000e+00, -0.00000000e+00,  7.84365034e-02,\n",
       "         1.83608482e-02,  4.45911544e-02],\n",
       "       [-1.01699332e-02, -1.67061730e-01, -1.09852693e-02,\n",
       "        -1.78504468e-01, -2.92371068e-01,  3.65267095e-01,\n",
       "        -8.21105012e-03,  5.18026003e-03, -1.69109897e-02,\n",
       "        -8.27774498e-03,  1.16458027e-01,  1.57772181e-30,\n",
       "         1.16458027e-01,  6.13007493e-02,  7.81367163e-02,\n",
       "        -1.75464366e-01, -1.77149298e-01,  2.15685962e-02,\n",
       "        -1.75808354e-01, -2.75355243e-02,  0.00000000e+00,\n",
       "         6.94353101e-02,  6.94353101e-02,  0.00000000e+00,\n",
       "         0.00000000e+00,  0.00000000e+00,  0.00000000e+00,\n",
       "        -1.69109897e-02, -2.51320299e-03,  6.77559688e-02,\n",
       "        -1.01575951e-01,  0.00000000e+00,  0.00000000e+00,\n",
       "         7.84936746e-02,  0.00000000e+00,  0.00000000e+00,\n",
       "         0.00000000e+00,  3.67160260e-01,  0.00000000e+00,\n",
       "         0.00000000e+00,  0.00000000e+00,  0.00000000e+00,\n",
       "         0.00000000e+00, -3.58568649e-01,  0.00000000e+00,\n",
       "         6.61198782e-02,  2.80476639e-01,  1.55141950e-02,\n",
       "         3.10962936e-01,  0.00000000e+00,  0.00000000e+00,\n",
       "         0.00000000e+00,  0.00000000e+00, -3.14987906e-02,\n",
       "         4.27921407e-04,  3.37654212e-01],\n",
       "       [ 9.22006900e-03, -8.85813624e-02, -5.66355485e-02,\n",
       "         3.67157875e-01,  1.85822547e-01,  1.56825614e-01,\n",
       "        -5.33937480e-03,  5.46185164e-03, -4.61994378e-02,\n",
       "        -2.65174737e-02,  1.01484967e-01, -0.00000000e+00,\n",
       "         1.01484967e-01,  2.52806603e-02, -6.81788260e-02,\n",
       "         3.05921416e-01,  3.99348742e-01, -2.24808571e-01,\n",
       "         4.00083072e-01, -2.39589738e-01, -0.00000000e+00,\n",
       "         6.11781043e-02,  6.11781043e-02, -0.00000000e+00,\n",
       "        -0.00000000e+00, -0.00000000e+00, -0.00000000e+00,\n",
       "        -4.61994378e-02, -2.51548032e-02,  1.01694453e-01,\n",
       "         2.97536846e-01, -0.00000000e+00, -0.00000000e+00,\n",
       "         1.14243128e-01, -0.00000000e+00, -0.00000000e+00,\n",
       "        -0.00000000e+00,  1.47039817e-01, -0.00000000e+00,\n",
       "        -0.00000000e+00, -0.00000000e+00, -0.00000000e+00,\n",
       "        -0.00000000e+00, -1.45947665e-01, -0.00000000e+00,\n",
       "         5.02385769e-02,  1.38598487e-01,  2.99235175e-02,\n",
       "         1.26657597e-01, -0.00000000e+00, -0.00000000e+00,\n",
       "        -0.00000000e+00, -0.00000000e+00,  1.60606963e-01,\n",
       "         2.71368925e-02,  1.21557788e-01],\n",
       "       [-4.32621543e-02,  7.46717465e-02, -1.67394823e-01,\n",
       "        -1.28544423e-01,  1.26948041e-01, -1.09011383e-01,\n",
       "        -8.02341399e-02,  6.04004118e-03, -1.76343559e-01,\n",
       "        -1.05955993e-01,  3.08970190e-01,  6.61744490e-24,\n",
       "         3.08970190e-01,  2.23927552e-01,  7.50847954e-02,\n",
       "        -1.54089727e-01, -1.00533434e-01, -1.03069318e-01,\n",
       "        -1.02177859e-01, -7.12310030e-02,  0.00000000e+00,\n",
       "         1.85472425e-01,  1.85472425e-01,  0.00000000e+00,\n",
       "         0.00000000e+00,  0.00000000e+00,  0.00000000e+00,\n",
       "        -1.76343559e-01, -1.01581564e-01,  3.26065230e-01,\n",
       "         3.70593493e-02,  0.00000000e+00,  0.00000000e+00,\n",
       "         3.89987580e-01,  0.00000000e+00,  0.00000000e+00,\n",
       "         0.00000000e+00, -1.07769269e-01,  0.00000000e+00,\n",
       "         0.00000000e+00,  0.00000000e+00,  0.00000000e+00,\n",
       "         0.00000000e+00,  1.60646607e-01,  0.00000000e+00,\n",
       "         3.30674746e-01, -1.07306242e-01,  8.38578657e-02,\n",
       "        -1.30030027e-01,  0.00000000e+00,  0.00000000e+00,\n",
       "         0.00000000e+00,  0.00000000e+00, -5.82444678e-02,\n",
       "         3.40278819e-02, -8.80109824e-02],\n",
       "       [ 3.85896162e-02, -6.64266658e-03, -1.56218963e-02,\n",
       "         1.97424715e-01, -1.96177943e-01,  2.01863055e-02,\n",
       "        -3.12818026e-02, -5.59663936e-02, -1.61790255e-02,\n",
       "        -3.34599364e-02,  2.21757542e-01, -8.47032947e-22,\n",
       "         2.21757542e-01, -5.36905249e-02, -1.99527980e-01,\n",
       "         3.08753374e-01,  7.69045519e-02,  4.85814553e-01,\n",
       "         7.89918220e-02,  4.86461873e-01, -0.00000000e+00,\n",
       "         2.48611262e-01,  2.48611262e-01, -0.00000000e+00,\n",
       "        -0.00000000e+00, -0.00000000e+00, -0.00000000e+00,\n",
       "        -1.61790255e-02, -1.58742632e-02,  7.22416399e-03,\n",
       "        -2.20581467e-01, -0.00000000e+00, -0.00000000e+00,\n",
       "        -1.62924556e-03, -0.00000000e+00, -0.00000000e+00,\n",
       "        -0.00000000e+00,  1.36195210e-02, -0.00000000e+00,\n",
       "        -0.00000000e+00, -0.00000000e+00, -0.00000000e+00,\n",
       "        -0.00000000e+00,  1.80698181e-02, -0.00000000e+00,\n",
       "        -2.48764728e-02, -7.07231693e-03, -6.36291563e-02,\n",
       "        -3.62522596e-02, -0.00000000e+00, -0.00000000e+00,\n",
       "        -0.00000000e+00, -0.00000000e+00,  1.09738495e-01,\n",
       "         6.45526993e-03, -4.69297024e-02]])"
      ]
     },
     "execution_count": 52,
     "metadata": {},
     "output_type": "execute_result"
    }
   ],
   "source": [
    "\n",
    "pca.components_"
   ]
  },
  {
   "cell_type": "code",
   "execution_count": 53,
   "id": "1d059bb9",
   "metadata": {},
   "outputs": [
    {
     "data": {
      "text/plain": [
       "<AxesSubplot:>"
      ]
     },
     "execution_count": 53,
     "metadata": {},
     "output_type": "execute_result"
    },
    {
     "data": {
      "image/png": "[encoded data removed]",
      "text/plain": [
       "<Figure size 864x432 with 2 Axes>"
      ]
     },
     "metadata": {
      "needs_background": "light"
     },
     "output_type": "display_data"
    }
   ],
   "source": [
    "df_comp = pd.DataFrame(pca.components_,columns= X_col_names)\n",
    "plt.figure(figsize=(12,6))\n",
    "sns.heatmap(df_comp,cmap='plasma',)"
   ]
  },
  {
   "cell_type": "code",
   "execution_count": null,
   "id": "2d02bc30",
   "metadata": {},
   "outputs": [],
   "source": [
    "# Clustering"
   ]
  },
  {
   "cell_type": "code",
   "execution_count": 54,
   "id": "8b019c4e",
   "metadata": {},
   "outputs": [
    {
     "data": {
      "text/html": [
       "<div>\n",
       "<style scoped>\n",
       "    .dataframe tbody tr th:only-of-type {\n",
       "        vertical-align: middle;\n",
       "    }\n",
       "\n",
       "    .dataframe tbody tr th {\n",
       "        vertical-align: top;\n",
       "    }\n",
       "\n",
       "    .dataframe thead th {\n",
       "        text-align: right;\n",
       "    }\n",
       "</style>\n",
       "<table border=\"1\" class=\"dataframe\">\n",
       "  <thead>\n",
       "    <tr style=\"text-align: right;\">\n",
       "      <th></th>\n",
       "      <th>Src Port</th>\n",
       "      <th>Dst Port</th>\n",
       "      <th>FWD Init Win Bytes</th>\n",
       "      <th>Flow Packets/s</th>\n",
       "      <th>Flow Duration</th>\n",
       "      <th>Fwd Seg Size Min</th>\n",
       "      <th>Bwd Init Win Bytes</th>\n",
       "      <th>FIN Flag Count</th>\n",
       "    </tr>\n",
       "  </thead>\n",
       "  <tbody>\n",
       "    <tr>\n",
       "      <th>1087</th>\n",
       "      <td>47033</td>\n",
       "      <td>443</td>\n",
       "      <td>1773</td>\n",
       "      <td>1.257596</td>\n",
       "      <td>2385503</td>\n",
       "      <td>20</td>\n",
       "      <td>0</td>\n",
       "      <td>1</td>\n",
       "    </tr>\n",
       "    <tr>\n",
       "      <th>1130</th>\n",
       "      <td>41698</td>\n",
       "      <td>80</td>\n",
       "      <td>1047</td>\n",
       "      <td>788.954635</td>\n",
       "      <td>2535</td>\n",
       "      <td>20</td>\n",
       "      <td>1161</td>\n",
       "      <td>2</td>\n",
       "    </tr>\n",
       "    <tr>\n",
       "      <th>3627</th>\n",
       "      <td>37790</td>\n",
       "      <td>80</td>\n",
       "      <td>980</td>\n",
       "      <td>463.392030</td>\n",
       "      <td>4316</td>\n",
       "      <td>20</td>\n",
       "      <td>980</td>\n",
       "      <td>1</td>\n",
       "    </tr>\n",
       "    <tr>\n",
       "      <th>4241</th>\n",
       "      <td>58871</td>\n",
       "      <td>80</td>\n",
       "      <td>980</td>\n",
       "      <td>154.428229</td>\n",
       "      <td>12951</td>\n",
       "      <td>20</td>\n",
       "      <td>0</td>\n",
       "      <td>1</td>\n",
       "    </tr>\n",
       "    <tr>\n",
       "      <th>4242</th>\n",
       "      <td>45179</td>\n",
       "      <td>80</td>\n",
       "      <td>980</td>\n",
       "      <td>112.726863</td>\n",
       "      <td>17742</td>\n",
       "      <td>20</td>\n",
       "      <td>0</td>\n",
       "      <td>1</td>\n",
       "    </tr>\n",
       "  </tbody>\n",
       "</table>\n",
       "</div>"
      ],
      "text/plain": [
       "      Src Port  Dst Port  FWD Init Win Bytes  Flow Packets/s  Flow Duration  \\\n",
       "1087     47033       443                1773        1.257596        2385503   \n",
       "1130     41698        80                1047      788.954635           2535   \n",
       "3627     37790        80                 980      463.392030           4316   \n",
       "4241     58871        80                 980      154.428229          12951   \n",
       "4242     45179        80                 980      112.726863          17742   \n",
       "\n",
       "      Fwd Seg Size Min  Bwd Init Win Bytes  FIN Flag Count  \n",
       "1087                20                   0               1  \n",
       "1130                20                1161               2  \n",
       "3627                20                 980               1  \n",
       "4241                20                   0               1  \n",
       "4242                20                   0               1  "
      ]
     },
     "execution_count": 54,
     "metadata": {},
     "output_type": "execute_result"
    }
   ],
   "source": [
    "\n",
    "X = df_new[df_new.columns[:]]\n",
    "X=X.drop(['Flow ID','Src IP','Dst IP','Timestamp'],axis=1)\n",
    "#X_new=X\n",
    "X_new=X[['Src Port','Dst Port','FWD Init Win Bytes','Flow Packets/s','Flow Duration' ,'Fwd Seg Size Min','Bwd Init Win Bytes','FIN Flag Count']]\n",
    "X_col_names=X.columns\n",
    "X_new.head()"
   ]
  },
  {
   "cell_type": "code",
   "execution_count": 55,
   "id": "83bf4131",
   "metadata": {},
   "outputs": [
    {
     "data": {
      "image/png": "[encoded data removed]",
      "text/plain": [
       "<Figure size 864x432 with 1 Axes>"
      ]
     },
     "metadata": {
      "needs_background": "light"
     },
     "output_type": "display_data"
    }
   ],
   "source": [
    "from sklearn.cluster import KMeans\n",
    "\n",
    "X = data_transformed\n",
    "\n",
    "wcss=[]\n",
    "X.head()\n",
    "for i in range(1,11):\n",
    "    kmeans=KMeans(n_clusters=i, init='k-means++',random_state=0)\n",
    "    kmeans.fit(X_new)\n",
    "    wcss.append(kmeans.inertia_)\n",
    "plt.figure(figsize=(12,6))   \n",
    "plt.plot(range(1,11),wcss, linewidth=2, color=\"red\", marker =\"8\")\n",
    "plt.title('The Elbow Method')\n",
    "plt.xticks(np.arange(1,11,1))\n",
    "plt.xlabel('Number of Clusters')\n",
    "plt.ylabel('WCSS')\n",
    "plt.show()\n",
    "\n"
   ]
  },
  {
   "cell_type": "code",
   "execution_count": 56,
   "id": "b796c962",
   "metadata": {},
   "outputs": [],
   "source": [
    "#Fitting K-MEans to the dataset\n",
    "kmeans=KMeans(n_clusters=4,init='k-means++',random_state=0)\n",
    "y_kmeans=kmeans.fit_predict(data_transformed)\n",
    "\n"
   ]
  },
  {
   "cell_type": "code",
   "execution_count": 57,
   "id": "ea72ae49",
   "metadata": {},
   "outputs": [
    {
     "data": {
      "image/png": "[encoded data removed]",
      "text/plain": [
       "<Figure size 432x288 with 1 Axes>"
      ]
     },
     "metadata": {
      "needs_background": "light"
     },
     "output_type": "display_data"
    }
   ],
   "source": [
    "#Visualize the clusters\n",
    "X = np.array(data_transformed )  #that all\n",
    "plt.scatter(X[y_kmeans== 0,0],X[y_kmeans==0,1],s=100,c='red',label='Cluster1')\n",
    "plt.scatter(X[y_kmeans== 1,0],X[y_kmeans==1,1],s=100,c='blue',label='Cluster2')\n",
    "plt.scatter(X[y_kmeans== 2,0],X[y_kmeans==2,1],s=100,c='green',label='Cluster3')\n",
    "plt.scatter(X[y_kmeans== 3,0],X[y_kmeans==3,1],s=100,c='cyan',label='Cluster4')\n",
    "#plt.scatter(X[y_kmeans== 4,0],X[y_kmeans==4,1],s=100,c='magenta',label='Cluster5')\n",
    "\n",
    "plt.scatter(kmeans.cluster_centers_[:,0],kmeans.cluster_centers_[:,1],s=300,c='yellow',label='Centroids')\n",
    "\n",
    "plt.title('Clusters of Traffic')\n",
    "plt.xlabel('')\n",
    "plt.ylabel('')\n",
    "plt.legend()\n",
    "plt.show()"
   ]
  },
  {
   "cell_type": "code",
   "execution_count": 58,
   "id": "13570aa2",
   "metadata": {},
   "outputs": [],
   "source": [
    "range_n_clusters = [2,3,4,5,6]"
   ]
  },
  {
   "cell_type": "code",
   "execution_count": 59,
   "id": "33ea922a",
   "metadata": {},
   "outputs": [
    {
     "name": "stdout",
     "output_type": "stream",
     "text": [
      "For n_clusters = 2 The average silhouette_score is : 0.8449484590562996\n",
      "For n_clusters = 3 The average silhouette_score is : 0.7281709829988612\n",
      "For n_clusters = 4 The average silhouette_score is : 0.7331194899628563\n",
      "For n_clusters = 5 The average silhouette_score is : 0.5877225007442498\n",
      "For n_clusters = 6 The average silhouette_score is : 0.5941861023412836\n"
     ]
    },
    {
     "data": {
      "image/png": "[encoded data removed]",
      "text/plain": [
       "<Figure size 1296x504 with 2 Axes>"
      ]
     },
     "metadata": {
      "needs_background": "light"
     },
     "output_type": "display_data"
    },
    {
     "data": {
      "image/png": "[encoded data removed]",
      "text/plain": [
       "<Figure size 1296x504 with 2 Axes>"
      ]
     },
     "metadata": {
      "needs_background": "light"
     },
     "output_type": "display_data"
    },
    {
     "data": {
      "image/png": "[encoded data removed]",
      "text/plain": [
       "<Figure size 1296x504 with 2 Axes>"
      ]
     },
     "metadata": {
      "needs_background": "light"
     },
     "output_type": "display_data"
    },
    {
     "data": {
      "image/png": "[encoded data removed]",
      "text/plain": [
       "<Figure size 1296x504 with 2 Axes>"
      ]
     },
     "metadata": {
      "needs_background": "light"
     },
     "output_type": "display_data"
    },
    {
     "data": {
      "image/png": "[encoded data removed]",
      "text/plain": [
       "<Figure size 1296x504 with 2 Axes>"
      ]
     },
     "metadata": {
      "needs_background": "light"
     },
     "output_type": "display_data"
    }
   ],
   "source": [
    "from sklearn.metrics import silhouette_samples, silhouette_score\n",
    "import matplotlib.cm as cm\n",
    "\n",
    "for n_clusters in range_n_clusters:\n",
    "    # Create a subplot with 1 row and 2 columns\n",
    "    fig, (ax1, ax2) = plt.subplots(1, 2)\n",
    "    fig.set_size_inches(18, 7)\n",
    "\n",
    "    # The 1st subplot is the silhouette plot\n",
    "    # The silhouette coefficient can range from -1, 1 but in this example all\n",
    "    # lie within [-0.1, 1]\n",
    "    ax1.set_xlim([-0.1, 1])\n",
    "    # The (n_clusters+1)*10 is for inserting blank space between silhouette\n",
    "    # plots of individual clusters, to demarcate them clearly.\n",
    "    ax1.set_ylim([0, len(X) + (n_clusters + 1) * 10])\n",
    "\n",
    "    # Initialize the clusterer with n_clusters value and a random generator\n",
    "    # seed of 10 for reproducibility.\n",
    "    clusterer = KMeans(n_clusters=n_clusters, random_state=10)\n",
    "    cluster_labels = clusterer.fit_predict(X)\n",
    "\n",
    "    # The silhouette_score gives the average value for all the samples.\n",
    "    # This gives a perspective into the density and separation of the formed\n",
    "    # clusters\n",
    "    silhouette_avg = silhouette_score(X, cluster_labels)\n",
    "    print(\"For n_clusters =\", n_clusters,\n",
    "          \"The average silhouette_score is :\", silhouette_avg)\n",
    "\n",
    "    # Compute the silhouette scores for each sample\n",
    "    sample_silhouette_values = silhouette_samples(X, cluster_labels)\n",
    "\n",
    "    y_lower = 10\n",
    "    for i in range(n_clusters):\n",
    "        # Aggregate the silhouette scores for samples belonging to\n",
    "        # cluster i, and sort them\n",
    "        ith_cluster_silhouette_values = \\\n",
    "            sample_silhouette_values[cluster_labels == i]\n",
    "\n",
    "        ith_cluster_silhouette_values.sort()\n",
    "\n",
    "        size_cluster_i = ith_cluster_silhouette_values.shape[0]\n",
    "        y_upper = y_lower + size_cluster_i\n",
    "\n",
    "        color = cm.nipy_spectral(float(i) / n_clusters)\n",
    "        ax1.fill_betweenx(np.arange(y_lower, y_upper),\n",
    "                          0, ith_cluster_silhouette_values,\n",
    "                          facecolor=color, edgecolor=color, alpha=0.7)\n",
    "\n",
    "        # Label the silhouette plots with their cluster numbers at the middle\n",
    "        ax1.text(-0.05, y_lower + 0.5 * size_cluster_i, str(i))\n",
    "\n",
    "        # Compute the new y_lower for next plot\n",
    "        y_lower = y_upper + 10  # 10 for the 0 samples\n",
    "\n",
    "    ax1.set_title(\"The silhouette plot for the various clusters.\")\n",
    "    ax1.set_xlabel(\"The silhouette coefficient values\")\n",
    "    ax1.set_ylabel(\"Cluster label\")\n",
    "\n",
    "    # The vertical line for average silhouette score of all the values\n",
    "    ax1.axvline(x=silhouette_avg, color=\"red\", linestyle=\"--\")\n",
    "\n",
    "    ax1.set_yticks([])  # Clear the yaxis labels / ticks\n",
    "    ax1.set_xticks([-0.1, 0, 0.2, 0.4, 0.6, 0.8, 1])\n",
    "\n",
    "    # 2nd Plot showing the actual clusters formed\n",
    "    colors = cm.nipy_spectral(cluster_labels.astype(float) / n_clusters)\n",
    "    ax2.scatter(X[:, 0], X[:, 1], marker='.', s=30, lw=0, alpha=0.7,\n",
    "                c=colors, edgecolor='k')\n",
    "\n",
    "    # Labeling the clusters\n",
    "    centers = clusterer.cluster_centers_\n",
    "    # Draw white circles at cluster centers\n",
    "    ax2.scatter(centers[:, 0], centers[:, 1], marker='o',\n",
    "                c=\"white\", alpha=1, s=200, edgecolor='k')\n",
    "\n",
    "    for i, c in enumerate(centers):\n",
    "        ax2.scatter(c[0], c[1], marker='$%d$' % i, alpha=1,\n",
    "                    s=50, edgecolor='k')\n",
    "\n",
    "    ax2.set_title(\"The visualization of the clustered data.\")\n",
    "    ax2.set_xlabel(\"Feature space for the 1st feature\")\n",
    "    ax2.set_ylabel(\"Feature space for the 2nd feature\")\n",
    "\n",
    "    plt.suptitle((\"Silhouette analysis for KMeans clustering on sample data \"\n",
    "                  \"with n_clusters = %d\" % n_clusters),\n",
    "                 fontsize=14, fontweight='bold')\n",
    "\n",
    "plt.show()"
   ]
  },
  {
   "cell_type": "code",
   "execution_count": null,
   "id": "c56572c3",
   "metadata": {},
   "outputs": [],
   "source": [
    "#Classification and Model Building"
   ]
  },
  {
   "cell_type": "code",
   "execution_count": 60,
   "id": "172fe481",
   "metadata": {},
   "outputs": [
    {
     "name": "stderr",
     "output_type": "stream",
     "text": [
      "2022-11-28 14:05:20.999412: I tensorflow/core/platform/cpu_feature_guard.cc:193] This TensorFlow binary is optimized with oneAPI Deep Neural Network Library (oneDNN) to use the following CPU instructions in performance-critical operations:  AVX2 FMA\n",
      "To enable them in other operations, rebuild TensorFlow with the appropriate compiler flags.\n"
     ]
    }
   ],
   "source": [
    "from sklearn.model_selection import train_test_split\n",
    "from sklearn.metrics import accuracy_score, precision_score, recall_score, f1_score\n",
    "from sklearn.neighbors import KNeighborsClassifier\n",
    "from sklearn.metrics import confusion_matrix\n",
    "from sklearn.model_selection import GridSearchCV\n",
    "from sklearn.metrics import classification_report\n",
    "from sklearn.preprocessing import StandardScaler\n",
    "from sklearn.model_selection import train_test_split\n",
    "from sklearn.preprocessing import LabelEncoder\n",
    "\n",
    "from sklearn.tree import DecisionTreeClassifier\n",
    "from sklearn.ensemble import RandomForestClassifier\n",
    "from sklearn.metrics import accuracy_score, precision_score, recall_score, f1_score\n",
    "\n",
    "from sklearn.metrics import confusion_matrix\n",
    "from sklearn.model_selection import GridSearchCV\n",
    "from sklearn.metrics import classification_report\n",
    "\n",
    "from sklearn.preprocessing import MinMaxScaler\n",
    "\n",
    "import keras\n",
    "from keras.models import Sequential\n",
    "from keras.layers import Dense\n",
    "\n",
    "\n",
    "from sklearn.metrics import confusion_matrix\n",
    "import seaborn as sns\n",
    "import matplotlib.pyplot as plt"
   ]
  },
  {
   "cell_type": "code",
   "execution_count": 61,
   "id": "5ce7100e",
   "metadata": {},
   "outputs": [],
   "source": [
    "\n",
    "df_X_train = pd.DataFrame(X_sm,columns=X_col_names[:-1])\n",
    "\n",
    "feats=['Label' ,'Dst Port','Fwd Seg Size Min','Src Port','FWD Init Win Bytes','Total Fwd Packet','Bwd Init Win Bytes','Flow Duration', 'Flow IAT Mean','Total Bwd packets',\n",
    "'FIN Flag Count','Flow Bytes/s','Packet Length Mean','Total Length of Fwd Packet','Fwd Packet Length Mean','Down/Up Ratio','Fwd IAT Std','Packet Length Variance']\n",
    "\n",
    "X_train_filtered=df_X_train[feats]\n",
    "#X_train_filtered=df_X_train\n",
    "X_train = np.array(X_train_filtered)\n",
    "\n",
    "\n",
    "df_X_test = pd.DataFrame(X_test,columns=X_col_names[:-1])\n",
    "X_test_filtered=df_X_test[feats]\n",
    "#X_test_filtered=df_X_test\n",
    "X_test = np.array(X_test_filtered)\n",
    "y_train=y_sm\n"
   ]
  },
  {
   "cell_type": "code",
   "execution_count": null,
   "id": "8bf1e955",
   "metadata": {},
   "outputs": [],
   "source": [
    "#Decision Tree"
   ]
  },
  {
   "cell_type": "code",
   "execution_count": 62,
   "id": "f9f9ec71",
   "metadata": {},
   "outputs": [
    {
     "name": "stdout",
     "output_type": "stream",
     "text": [
      "Starting to train\n"
     ]
    },
    {
     "data": {
      "text/plain": [
       "DecisionTreeClassifier()"
      ]
     },
     "execution_count": 62,
     "metadata": {},
     "output_type": "execute_result"
    }
   ],
   "source": [
    "print(\"Starting to train\")\n",
    "dt = DecisionTreeClassifier()\n",
    "dt.fit(X_train , y_train)"
   ]
  },
  {
   "cell_type": "code",
   "execution_count": 63,
   "id": "4b82449b",
   "metadata": {},
   "outputs": [
    {
     "data": {
      "text/plain": [
       "(1683, 25)"
      ]
     },
     "execution_count": 63,
     "metadata": {},
     "output_type": "execute_result"
    }
   ],
   "source": [
    "dt.tree_.node_count, dt.tree_.max_depth"
   ]
  },
  {
   "cell_type": "code",
   "execution_count": 64,
   "id": "e9e116fe",
   "metadata": {},
   "outputs": [
    {
     "data": {
      "text/plain": [
       "0.9683860232945092"
      ]
     },
     "execution_count": 64,
     "metadata": {},
     "output_type": "execute_result"
    }
   ],
   "source": [
    "dt.score(X_test, y_test)"
   ]
  },
  {
   "cell_type": "code",
   "execution_count": 65,
   "id": "2d18eeb3",
   "metadata": {},
   "outputs": [
    {
     "name": "stdout",
     "output_type": "stream",
     "text": [
      "accuracy 0.9683860232945092\n",
      "Classes:  ['AUDIO-STREAMING' 'BROWSING' 'CHAT' 'EMAIL' 'FILE-TRANSFER' 'P2P'\n",
      " 'VIDEO-STREAMING']\n",
      "                 precision    recall  f1-score   support\n",
      "\n",
      "AUDIO-STREAMING       0.49      0.81      0.61        27\n",
      "       BROWSING       0.47      0.54      0.50        13\n",
      "           CHAT       0.78      0.70      0.74        10\n",
      "          EMAIL       0.85      1.00      0.92        17\n",
      "  FILE-TRANSFER       0.57      0.52      0.55        23\n",
      "            P2P       1.00      1.00      1.00      1622\n",
      "VIDEO-STREAMING       0.84      0.66      0.74        89\n",
      "\n",
      "       accuracy                           0.97      1803\n",
      "      macro avg       0.71      0.78      0.73      1803\n",
      "   weighted avg       0.97      0.97      0.97      1803\n",
      "\n"
     ]
    }
   ],
   "source": [
    "y_pred = dt.predict(X_test)\n",
    "print('accuracy %s' % accuracy_score(y_test, y_pred))\n",
    "print(\"Classes: \", le.inverse_transform([0,1,2,3,4,5,6]))\n",
    "print(classification_report(y_test, y_pred, target_names= le.inverse_transform([0,1,2,3,4,5,6]), labels=range(8)))"
   ]
  },
  {
   "cell_type": "code",
   "execution_count": 67,
   "id": "739d5303",
   "metadata": {},
   "outputs": [],
   "source": [
    "#confusion matrix graph\n",
    "#utility function taken from online reference\n",
    "def plot_confusion_matrix(cm, classes,\n",
    "                          normalize=False,\n",
    "                          title='Confusion matrix',\n",
    "                          cmap=plt.cm.Blues):\n",
    "    \"\"\"\n",
    "    This function prints and plots the confusion matrix.\n",
    "    Normalization can be applied by setting `normalize=True`.\n",
    "    \"\"\"\n",
    "    if normalize:\n",
    "        cm = cm.astype('float') / cm.sum(axis=1)[:, np.newaxis]\n",
    "        print(\"Normalized confusion matrix\")\n",
    "    else:\n",
    "        print('Confusion matrix, without normalization')\n",
    "\n",
    "    # print(cm)\n",
    "\n",
    "    plt.imshow(cm, interpolation='nearest', cmap=cmap)\n",
    "    plt.title(title)\n",
    "    #plt.colorbar()\n",
    "    tick_marks = np.arange(len(classes))\n",
    "    plt.xticks(tick_marks, classes, rotation=90)\n",
    "    plt.yticks(tick_marks, classes)\n",
    "\n",
    "    fmt = '.2f' if normalize else 'd'\n",
    "    thresh = cm.max() / 2.\n",
    "    for i, j in itertools.product(range(cm.shape[0]), range(cm.shape[1])):\n",
    "        plt.text(j, i, format(cm[i, j], fmt),\n",
    "                 horizontalalignment=\"center\",\n",
    "                 color=\"white\" if cm[i, j] > thresh else \"black\")\n",
    "\n",
    "    #plt.tight_layout()\n",
    "    plt.ylabel('True label')\n",
    "    plt.xlabel('Predicted label')"
   ]
  },
  {
   "cell_type": "code",
   "execution_count": 68,
   "id": "3c5d78c0",
   "metadata": {},
   "outputs": [
    {
     "name": "stdout",
     "output_type": "stream",
     "text": [
      "Normalized confusion matrix\n"
     ]
    },
    {
     "data": {
      "image/png": "[encoded data removed]",
      "text/plain": [
       "<Figure size 432x432 with 1 Axes>"
      ]
     },
     "metadata": {
      "needs_background": "light"
     },
     "output_type": "display_data"
    }
   ],
   "source": [
    "import itertools\n",
    "fig = plt.figure()\n",
    "fig.set_size_inches(6, 6, forward=True)\n",
    "fig.align_labels()\n",
    "\n",
    "plot_confusion_matrix(confusion_matrix(y_test, y_pred), normalize=True,\n",
    "                      title='Confusion matrix', classes= le.inverse_transform([0,1,2,3,4,5,6]))\n",
    "fig.show()"
   ]
  },
  {
   "cell_type": "code",
   "execution_count": 69,
   "id": "dbad189a",
   "metadata": {},
   "outputs": [
    {
     "data": {
      "image/png": "[encoded data removed]",
      "text/plain": [
       "<Figure size 1728x864 with 1 Axes>"
      ]
     },
     "metadata": {
      "needs_background": "light"
     },
     "output_type": "display_data"
    }
   ],
   "source": [
    "importances = dt.feature_importances_\n",
    "indices = np.argsort(importances)[::-1]\n",
    "names = [X_col_names[i] for i in indices]\n",
    "plt.figure(figsize=(24,12))\n",
    "plt.title(\"Importances\")\n",
    "plt.bar(range(X_train.shape[1]), importances[indices])\n",
    "plt.xticks(range(X_train.shape[1]), names, rotation=90)\n",
    "plt.savefig(\"DT_features.png\")"
   ]
  },
  {
   "cell_type": "code",
   "execution_count": null,
   "id": "031de62c",
   "metadata": {},
   "outputs": [],
   "source": [
    "#KNN Model"
   ]
  },
  {
   "cell_type": "code",
   "execution_count": 70,
   "id": "2c50c5c2",
   "metadata": {},
   "outputs": [
    {
     "name": "stdout",
     "output_type": "stream",
     "text": [
      "K=2 accuracy 0.9317803660565723\n",
      "K=3 accuracy 0.9339988907376594\n",
      "K=4 accuracy 0.9306711037160288\n",
      "K=5 accuracy 0.9334442595673876\n",
      "K=6 accuracy 0.9323349972268441\n",
      "K=7 accuracy 0.9323349972268441\n",
      "K=8 accuracy 0.9306711037160288\n",
      "K=9 accuracy 0.9317803660565723\n",
      "K=10 accuracy 0.9273433166943982\n",
      "K=11 accuracy 0.9273433166943982\n",
      "K=12 accuracy 0.9262340543538546\n",
      "K=13 accuracy 0.9251247920133111\n",
      "K=14 accuracy 0.9201331114808652\n",
      "K=15 accuracy 0.9195784803105934\n",
      "K=16 accuracy 0.9151414309484193\n",
      "K=17 accuracy 0.9162506932889628\n",
      "K=18 accuracy 0.9145867997781475\n",
      "K=19 accuracy 0.9145867997781475\n"
     ]
    }
   ],
   "source": [
    "max = 0\n",
    "error_rate = []\n",
    "for i in range(2, 20):\n",
    "    knn = KNeighborsClassifier(n_neighbors=i)\n",
    "\n",
    "    #print(\"Training Started\")\n",
    "    knn.fit(X_train, y_train)\n",
    "\n",
    "    #print(\"Testing the classifier\")\n",
    "    y_pred = knn.predict(X_test)\n",
    "    acc = accuracy_score(y_pred, y_test)\n",
    "    error_rate.append(np.mean(y_pred != y_test))\n",
    "    print(f'K={i} accuracy %s' % acc)"
   ]
  },
  {
   "cell_type": "code",
   "execution_count": 71,
   "id": "da4d1807",
   "metadata": {},
   "outputs": [
    {
     "data": {
      "text/plain": [
       "Text(0, 0.5, 'Error Rate')"
      ]
     },
     "execution_count": 71,
     "metadata": {},
     "output_type": "execute_result"
    },
    {
     "data": {
      "image/png": "[encoded data removed]",
      "text/plain": [
       "<Figure size 720x576 with 1 Axes>"
      ]
     },
     "metadata": {
      "needs_background": "light"
     },
     "output_type": "display_data"
    }
   ],
   "source": [
    "plt.figure(figsize=(10,8))\n",
    "plt.plot(range(2,20),error_rate,color='blue', linestyle='dashed', marker='o',\n",
    "        markerfacecolor='red', markersize=10)\n",
    "plt.title('Error Rate vs. K Value')\n",
    "plt.xlabel('K')\n",
    "plt.ylabel('Error Rate')"
   ]
  },
  {
   "cell_type": "code",
   "execution_count": 72,
   "id": "0be56b06",
   "metadata": {},
   "outputs": [],
   "source": [
    "#Here we can see that that after arouns K>15 the error rate \n",
    "#just tends to hover around 0.06-0.05 Let's retrain the model with that and check the classification report!\n",
    "neigh = KNeighborsClassifier(n_neighbors = 15, metric='manhattan', weights='distance')"
   ]
  },
  {
   "cell_type": "code",
   "execution_count": 73,
   "id": "9a684dad",
   "metadata": {},
   "outputs": [
    {
     "data": {
      "text/plain": [
       "KNeighborsClassifier(metric='manhattan', n_neighbors=15, weights='distance')"
      ]
     },
     "execution_count": 73,
     "metadata": {},
     "output_type": "execute_result"
    }
   ],
   "source": [
    "neigh.fit(X_train, y_train)"
   ]
  },
  {
   "cell_type": "code",
   "execution_count": 74,
   "id": "616487fe",
   "metadata": {},
   "outputs": [
    {
     "data": {
      "text/plain": [
       "0.9550748752079867"
      ]
     },
     "execution_count": 74,
     "metadata": {},
     "output_type": "execute_result"
    }
   ],
   "source": [
    "neigh.score(X_test, y_test)"
   ]
  },
  {
   "cell_type": "code",
   "execution_count": 75,
   "id": "f29399b4",
   "metadata": {},
   "outputs": [],
   "source": [
    "y_pred = neigh.predict(X_test)"
   ]
  },
  {
   "cell_type": "code",
   "execution_count": 76,
   "id": "3e46c0b5",
   "metadata": {},
   "outputs": [
    {
     "name": "stdout",
     "output_type": "stream",
     "text": [
      "              precision    recall  f1-score   support\n",
      "\n",
      "           0       0.44      0.67      0.53        27\n",
      "           1       0.47      0.54      0.50        13\n",
      "           2       0.64      0.70      0.67        10\n",
      "           3       0.89      1.00      0.94        17\n",
      "           4       0.40      0.43      0.42        23\n",
      "           5       1.00      1.00      1.00      1622\n",
      "           6       0.78      0.55      0.64        89\n",
      "           7       0.00      0.00      0.00         2\n",
      "\n",
      "    accuracy                           0.96      1803\n",
      "   macro avg       0.58      0.61      0.59      1803\n",
      "weighted avg       0.96      0.96      0.96      1803\n",
      "\n"
     ]
    }
   ],
   "source": [
    "print(classification_report(y_test, y_pred))"
   ]
  },
  {
   "cell_type": "code",
   "execution_count": 77,
   "id": "72409b57",
   "metadata": {},
   "outputs": [
    {
     "name": "stdout",
     "output_type": "stream",
     "text": [
      "accuracy 0.9550748752079867\n"
     ]
    }
   ],
   "source": [
    "print('accuracy %s' % accuracy_score(y_test, y_pred))"
   ]
  },
  {
   "cell_type": "code",
   "execution_count": 78,
   "id": "52fb5f41",
   "metadata": {},
   "outputs": [
    {
     "name": "stdout",
     "output_type": "stream",
     "text": [
      "[[  18    1    0    0    1    0    5    2]\n",
      " [   1    7    0    0    4    0    1    0]\n",
      " [   0    1    7    2    0    0    0    0]\n",
      " [   0    0    0   17    0    0    0    0]\n",
      " [   3    5    0    0   10    1    4    0]\n",
      " [   0    0    4    0    0 1614    4    0]\n",
      " [  17    1    0    0   10    0   49   12]\n",
      " [   2    0    0    0    0    0    0    0]]\n"
     ]
    }
   ],
   "source": [
    "print(confusion_matrix(y_test, y_pred))"
   ]
  },
  {
   "cell_type": "code",
   "execution_count": 79,
   "id": "9afda486",
   "metadata": {},
   "outputs": [
    {
     "name": "stdout",
     "output_type": "stream",
     "text": [
      "Normalized confusion matrix\n"
     ]
    },
    {
     "data": {
      "image/png": "[encoded data removed]",
      "text/plain": [
       "<Figure size 432x432 with 1 Axes>"
      ]
     },
     "metadata": {
      "needs_background": "light"
     },
     "output_type": "display_data"
    }
   ],
   "source": [
    "fig = plt.figure()\n",
    "fig.set_size_inches(6, 6, forward=True)\n",
    "fig.align_labels()\n",
    "\n",
    "plot_confusion_matrix(confusion_matrix(y_test, y_pred), normalize=True,\n",
    "                      title='Confusion matrix', classes= le.inverse_transform([0,1,2,3,4,5,6]))\n",
    "fig.show()"
   ]
  },
  {
   "cell_type": "code",
   "execution_count": 80,
   "id": "b865cb7d",
   "metadata": {},
   "outputs": [
    {
     "name": "stdout",
     "output_type": "stream",
     "text": [
      "Feature  Importance\n",
      "0        0.373355\n",
      "1        0.413403\n",
      "2        0.251319\n",
      "3        0.489711\n",
      "4        0.502792\n",
      "5        0.268455\n",
      "6        0.344534\n",
      "7        0.535151\n",
      "8        0.544867\n",
      "9        0.266677\n",
      "10        0.151392\n",
      "11        0.28934\n",
      "12        0.286127\n",
      "13        0.277884\n",
      "14        0.280351\n",
      "15        0.264573\n",
      "16        0.242369\n",
      "17        0.237339\n"
     ]
    }
   ],
   "source": [
    "# permutation feature importance with knn for classification\n",
    "from sklearn.datasets import make_classification\n",
    "from sklearn.neighbors import KNeighborsClassifier\n",
    "from sklearn.inspection import permutation_importance\n",
    "from matplotlib import pyplot\n",
    "from sklearn.model_selection import cross_val_score\n",
    "# # perform permutation importance\n",
    "# results = permutation_importance(neigh, X_train, y_train, scoring='accuracy')\n",
    "# # get importance\n",
    "# importance = results.importances_mean\n",
    "# # summarize feature importance\n",
    "# for i,v in enumerate(importance):\n",
    "#     print('Feature: %0d, Score: %.5f' % (i,v))\n",
    "# # plot feature importance\n",
    "# pyplot.bar([x for x in range(len(importance))], importance)\n",
    "# pyplot.show()\n",
    "\n",
    "\n",
    "n_feats = X_train.shape[1]\n",
    "\n",
    "print('Feature  Importance')\n",
    "for i in range(n_feats):\n",
    "    X = X_train[:, i].reshape(-1, 1)\n",
    "    scores = cross_val_score(neigh, X, y_train, cv=3)\n",
    "    print(f'{i}        {scores.mean():g}')"
   ]
  },
  {
   "cell_type": "code",
   "execution_count": null,
   "id": "587d7fad",
   "metadata": {},
   "outputs": [],
   "source": [
    "#Random Forest"
   ]
  },
  {
   "cell_type": "code",
   "execution_count": 81,
   "id": "ad0a3205",
   "metadata": {},
   "outputs": [
    {
     "data": {
      "text/plain": [
       "RandomForestClassifier()"
      ]
     },
     "execution_count": 81,
     "metadata": {},
     "output_type": "execute_result"
    }
   ],
   "source": [
    "#rf = RandomForestClassifier(max_depth=60, n_estimators=100, max_features='auto', criterion='entropy')\n",
    "rf = RandomForestClassifier()\n",
    "rf.fit(X_train , y_train)"
   ]
  },
  {
   "cell_type": "code",
   "execution_count": 82,
   "id": "6953e58b",
   "metadata": {},
   "outputs": [
    {
     "data": {
      "text/plain": [
       "0.9744869661674986"
      ]
     },
     "execution_count": 82,
     "metadata": {},
     "output_type": "execute_result"
    }
   ],
   "source": [
    "rf.score(X_test, y_test)"
   ]
  },
  {
   "cell_type": "code",
   "execution_count": 83,
   "id": "afa08f02",
   "metadata": {},
   "outputs": [],
   "source": [
    "y_pred = rf.predict(X_test)"
   ]
  },
  {
   "cell_type": "code",
   "execution_count": 84,
   "id": "86ed7e28",
   "metadata": {},
   "outputs": [
    {
     "name": "stdout",
     "output_type": "stream",
     "text": [
      "              precision    recall  f1-score   support\n",
      "\n",
      "           0       0.52      0.85      0.65        27\n",
      "           1       0.60      0.69      0.64        13\n",
      "           2       1.00      0.60      0.75        10\n",
      "           3       0.89      1.00      0.94        17\n",
      "           4       0.60      0.65      0.63        23\n",
      "           5       1.00      1.00      1.00      1622\n",
      "           6       0.92      0.73      0.81        89\n",
      "           7       0.67      1.00      0.80         2\n",
      "\n",
      "    accuracy                           0.97      1803\n",
      "   macro avg       0.77      0.82      0.78      1803\n",
      "weighted avg       0.98      0.97      0.98      1803\n",
      "\n"
     ]
    }
   ],
   "source": [
    "print(classification_report(y_test, y_pred))"
   ]
  },
  {
   "cell_type": "code",
   "execution_count": 85,
   "id": "668e6f65",
   "metadata": {},
   "outputs": [
    {
     "name": "stdout",
     "output_type": "stream",
     "text": [
      "accuracy 0.9744869661674986\n"
     ]
    }
   ],
   "source": [
    "print('accuracy %s' % accuracy_score(y_pred, y_test))"
   ]
  },
  {
   "cell_type": "code",
   "execution_count": 86,
   "id": "ac7e4e8c",
   "metadata": {},
   "outputs": [
    {
     "name": "stdout",
     "output_type": "stream",
     "text": [
      "Normalized confusion matrix\n"
     ]
    },
    {
     "data": {
      "image/png": "[encoded data removed]",
      "text/plain": [
       "<Figure size 432x432 with 1 Axes>"
      ]
     },
     "metadata": {
      "needs_background": "light"
     },
     "output_type": "display_data"
    }
   ],
   "source": [
    "fig = plt.figure()\n",
    "fig.set_size_inches(6, 6, forward=True)\n",
    "fig.align_labels()\n",
    "\n",
    "plot_confusion_matrix(confusion_matrix(y_test, y_pred), normalize=True,\n",
    "                      title='Confusion matrix', classes= le.inverse_transform([0,1,2,3,4,5,6]))\n",
    "fig.show()"
   ]
  },
  {
   "cell_type": "code",
   "execution_count": 87,
   "id": "7a538779",
   "metadata": {},
   "outputs": [
    {
     "data": {
      "image/png": "[encoded data removed]",
      "text/plain": [
       "<Figure size 1728x864 with 1 Axes>"
      ]
     },
     "metadata": {
      "needs_background": "light"
     },
     "output_type": "display_data"
    }
   ],
   "source": [
    "importances = rf.feature_importances_\n",
    "indices = np.argsort(importances)[::-1]\n",
    "names = [X_col_names[i] for i in indices]\n",
    "plt.figure(figsize=(24,12))\n",
    "plt.title(\"Importances\")\n",
    "plt.bar(range(X_train.shape[1]), importances[indices])\n",
    "plt.xticks(range(X_train.shape[1]), names, rotation=90)\n",
    "plt.savefig(\"RF_features.png\")"
   ]
  },
  {
   "cell_type": "code",
   "execution_count": 88,
   "id": "d35a1cb4",
   "metadata": {},
   "outputs": [
    {
     "data": {
      "text/plain": [
       "[DecisionTreeClassifier(max_features='auto', random_state=45303820),\n",
       " DecisionTreeClassifier(max_features='auto', random_state=2052311520),\n",
       " DecisionTreeClassifier(max_features='auto', random_state=1838987426),\n",
       " DecisionTreeClassifier(max_features='auto', random_state=1252785249),\n",
       " DecisionTreeClassifier(max_features='auto', random_state=671234393),\n",
       " DecisionTreeClassifier(max_features='auto', random_state=204684312),\n",
       " DecisionTreeClassifier(max_features='auto', random_state=1181885957),\n",
       " DecisionTreeClassifier(max_features='auto', random_state=2104640596),\n",
       " DecisionTreeClassifier(max_features='auto', random_state=216843789),\n",
       " DecisionTreeClassifier(max_features='auto', random_state=1625075915),\n",
       " DecisionTreeClassifier(max_features='auto', random_state=1218486864),\n",
       " DecisionTreeClassifier(max_features='auto', random_state=1266802064),\n",
       " DecisionTreeClassifier(max_features='auto', random_state=874086743),\n",
       " DecisionTreeClassifier(max_features='auto', random_state=1679796646),\n",
       " DecisionTreeClassifier(max_features='auto', random_state=719991018),\n",
       " DecisionTreeClassifier(max_features='auto', random_state=126971477),\n",
       " DecisionTreeClassifier(max_features='auto', random_state=596201296),\n",
       " DecisionTreeClassifier(max_features='auto', random_state=133780289),\n",
       " DecisionTreeClassifier(max_features='auto', random_state=1677546432),\n",
       " DecisionTreeClassifier(max_features='auto', random_state=1711959954),\n",
       " DecisionTreeClassifier(max_features='auto', random_state=1778504674),\n",
       " DecisionTreeClassifier(max_features='auto', random_state=759603493),\n",
       " DecisionTreeClassifier(max_features='auto', random_state=1903734710),\n",
       " DecisionTreeClassifier(max_features='auto', random_state=1982686059),\n",
       " DecisionTreeClassifier(max_features='auto', random_state=2045427855),\n",
       " DecisionTreeClassifier(max_features='auto', random_state=146673996),\n",
       " DecisionTreeClassifier(max_features='auto', random_state=1782630114),\n",
       " DecisionTreeClassifier(max_features='auto', random_state=123153663),\n",
       " DecisionTreeClassifier(max_features='auto', random_state=1807560130),\n",
       " DecisionTreeClassifier(max_features='auto', random_state=685454154),\n",
       " DecisionTreeClassifier(max_features='auto', random_state=1087772341),\n",
       " DecisionTreeClassifier(max_features='auto', random_state=895942555),\n",
       " DecisionTreeClassifier(max_features='auto', random_state=1296647409),\n",
       " DecisionTreeClassifier(max_features='auto', random_state=1481813984),\n",
       " DecisionTreeClassifier(max_features='auto', random_state=716522230),\n",
       " DecisionTreeClassifier(max_features='auto', random_state=2028269018),\n",
       " DecisionTreeClassifier(max_features='auto', random_state=1512874520),\n",
       " DecisionTreeClassifier(max_features='auto', random_state=1654425488),\n",
       " DecisionTreeClassifier(max_features='auto', random_state=584257666),\n",
       " DecisionTreeClassifier(max_features='auto', random_state=1263317919),\n",
       " DecisionTreeClassifier(max_features='auto', random_state=383913699),\n",
       " DecisionTreeClassifier(max_features='auto', random_state=1778476414),\n",
       " DecisionTreeClassifier(max_features='auto', random_state=803927005),\n",
       " DecisionTreeClassifier(max_features='auto', random_state=950065874),\n",
       " DecisionTreeClassifier(max_features='auto', random_state=1846911542),\n",
       " DecisionTreeClassifier(max_features='auto', random_state=1049155175),\n",
       " DecisionTreeClassifier(max_features='auto', random_state=2019053110),\n",
       " DecisionTreeClassifier(max_features='auto', random_state=1329731872),\n",
       " DecisionTreeClassifier(max_features='auto', random_state=591404742),\n",
       " DecisionTreeClassifier(max_features='auto', random_state=1989262175),\n",
       " DecisionTreeClassifier(max_features='auto', random_state=499299313),\n",
       " DecisionTreeClassifier(max_features='auto', random_state=1896155949),\n",
       " DecisionTreeClassifier(max_features='auto', random_state=1125168494),\n",
       " DecisionTreeClassifier(max_features='auto', random_state=1660948242),\n",
       " DecisionTreeClassifier(max_features='auto', random_state=1186683791),\n",
       " DecisionTreeClassifier(max_features='auto', random_state=797416722),\n",
       " DecisionTreeClassifier(max_features='auto', random_state=496142823),\n",
       " DecisionTreeClassifier(max_features='auto', random_state=1458084523),\n",
       " DecisionTreeClassifier(max_features='auto', random_state=1989153823),\n",
       " DecisionTreeClassifier(max_features='auto', random_state=1644968136),\n",
       " DecisionTreeClassifier(max_features='auto', random_state=927165221),\n",
       " DecisionTreeClassifier(max_features='auto', random_state=1974335815),\n",
       " DecisionTreeClassifier(max_features='auto', random_state=412537960),\n",
       " DecisionTreeClassifier(max_features='auto', random_state=1489882610),\n",
       " DecisionTreeClassifier(max_features='auto', random_state=903634795),\n",
       " DecisionTreeClassifier(max_features='auto', random_state=1306937144),\n",
       " DecisionTreeClassifier(max_features='auto', random_state=504861088),\n",
       " DecisionTreeClassifier(max_features='auto', random_state=589892396),\n",
       " DecisionTreeClassifier(max_features='auto', random_state=1322778226),\n",
       " DecisionTreeClassifier(max_features='auto', random_state=1901357427),\n",
       " DecisionTreeClassifier(max_features='auto', random_state=87077602),\n",
       " DecisionTreeClassifier(max_features='auto', random_state=1955528583),\n",
       " DecisionTreeClassifier(max_features='auto', random_state=261748608),\n",
       " DecisionTreeClassifier(max_features='auto', random_state=3561097),\n",
       " DecisionTreeClassifier(max_features='auto', random_state=2089879369),\n",
       " DecisionTreeClassifier(max_features='auto', random_state=215015574),\n",
       " DecisionTreeClassifier(max_features='auto', random_state=81490816),\n",
       " DecisionTreeClassifier(max_features='auto', random_state=393202931),\n",
       " DecisionTreeClassifier(max_features='auto', random_state=1018077428),\n",
       " DecisionTreeClassifier(max_features='auto', random_state=1985824969),\n",
       " DecisionTreeClassifier(max_features='auto', random_state=849039140),\n",
       " DecisionTreeClassifier(max_features='auto', random_state=969033),\n",
       " DecisionTreeClassifier(max_features='auto', random_state=436220210),\n",
       " DecisionTreeClassifier(max_features='auto', random_state=1103061759),\n",
       " DecisionTreeClassifier(max_features='auto', random_state=2134696915),\n",
       " DecisionTreeClassifier(max_features='auto', random_state=1703346671),\n",
       " DecisionTreeClassifier(max_features='auto', random_state=849621808),\n",
       " DecisionTreeClassifier(max_features='auto', random_state=914779766),\n",
       " DecisionTreeClassifier(max_features='auto', random_state=1648903165),\n",
       " DecisionTreeClassifier(max_features='auto', random_state=1051512557),\n",
       " DecisionTreeClassifier(max_features='auto', random_state=624832630),\n",
       " DecisionTreeClassifier(max_features='auto', random_state=945218964),\n",
       " DecisionTreeClassifier(max_features='auto', random_state=1726256470),\n",
       " DecisionTreeClassifier(max_features='auto', random_state=1533244791),\n",
       " DecisionTreeClassifier(max_features='auto', random_state=1438711610),\n",
       " DecisionTreeClassifier(max_features='auto', random_state=784472806),\n",
       " DecisionTreeClassifier(max_features='auto', random_state=1000385303),\n",
       " DecisionTreeClassifier(max_features='auto', random_state=1932456010),\n",
       " DecisionTreeClassifier(max_features='auto', random_state=182074286),\n",
       " DecisionTreeClassifier(max_features='auto', random_state=144121369)]"
      ]
     },
     "execution_count": 88,
     "metadata": {},
     "output_type": "execute_result"
    }
   ],
   "source": [
    "rf.estimators_"
   ]
  },
  {
   "cell_type": "code",
   "execution_count": null,
   "id": "eb6800f7",
   "metadata": {},
   "outputs": [],
   "source": [
    "# Tuning RF model"
   ]
  },
  {
   "cell_type": "code",
   "execution_count": 89,
   "id": "132ed696",
   "metadata": {},
   "outputs": [],
   "source": [
    "model = RandomForestClassifier()\n",
    "param_grid = {'max_depth':[30,40,50],\n",
    "              'n_estimators':[20,30,40,50],  \n",
    "              'max_features':['auto','log2'],\n",
    "              'criterion':['gini','entropy']}\n",
    "GR = GridSearchCV(estimator = model, param_grid = param_grid, scoring='accuracy', cv=6)"
   ]
  },
  {
   "cell_type": "code",
   "execution_count": 90,
   "id": "0ad5b9d4",
   "metadata": {},
   "outputs": [],
   "source": [
    "df_X = pd.DataFrame(Xn,columns= X_col_names[:-1])\n",
    "X_m = df_X[feats]\n",
    "X_n = np.array(X_m)\n"
   ]
  },
  {
   "cell_type": "code",
   "execution_count": 91,
   "id": "de604ca4",
   "metadata": {},
   "outputs": [
    {
     "data": {
      "text/plain": [
       "GridSearchCV(cv=6, estimator=RandomForestClassifier(),\n",
       "             param_grid={'criterion': ['gini', 'entropy'],\n",
       "                         'max_depth': [30, 40, 50],\n",
       "                         'max_features': ['auto', 'log2'],\n",
       "                         'n_estimators': [20, 30, 40, 50]},\n",
       "             scoring='accuracy')"
      ]
     },
     "execution_count": 91,
     "metadata": {},
     "output_type": "execute_result"
    }
   ],
   "source": [
    "GR.fit(X_train, y_train)"
   ]
  },
  {
   "cell_type": "code",
   "execution_count": 92,
   "id": "a1571371",
   "metadata": {},
   "outputs": [
    {
     "data": {
      "text/plain": [
       "0.9900168649504298"
      ]
     },
     "execution_count": 92,
     "metadata": {},
     "output_type": "execute_result"
    }
   ],
   "source": [
    "GR.best_score_"
   ]
  },
  {
   "cell_type": "code",
   "execution_count": 93,
   "id": "7430ff5d",
   "metadata": {},
   "outputs": [
    {
     "data": {
      "text/plain": [
       "{'criterion': 'entropy',\n",
       " 'max_depth': 30,\n",
       " 'max_features': 'auto',\n",
       " 'n_estimators': 50}"
      ]
     },
     "execution_count": 93,
     "metadata": {},
     "output_type": "execute_result"
    }
   ],
   "source": [
    "GR.best_params_"
   ]
  },
  {
   "cell_type": "code",
   "execution_count": 94,
   "id": "d7a29467",
   "metadata": {},
   "outputs": [
    {
     "data": {
      "text/plain": [
       "RandomForestClassifier(max_depth=50, max_features='log2', n_estimators=40)"
      ]
     },
     "execution_count": 94,
     "metadata": {},
     "output_type": "execute_result"
    }
   ],
   "source": [
    "rf = RandomForestClassifier(max_depth=50, n_estimators=40, max_features='log2', criterion='gini')\n",
    "rf.fit(X_train , y_train)"
   ]
  },
  {
   "cell_type": "code",
   "execution_count": 95,
   "id": "f5a22bc6",
   "metadata": {},
   "outputs": [
    {
     "data": {
      "text/plain": [
       "0.9767054908485857"
      ]
     },
     "execution_count": 95,
     "metadata": {},
     "output_type": "execute_result"
    }
   ],
   "source": [
    "rf.score(X_test, y_test)"
   ]
  },
  {
   "cell_type": "code",
   "execution_count": 96,
   "id": "a940ca2d",
   "metadata": {},
   "outputs": [],
   "source": [
    "y_pred = rf.predict(X_test)"
   ]
  },
  {
   "cell_type": "code",
   "execution_count": 97,
   "id": "041f8535",
   "metadata": {},
   "outputs": [
    {
     "name": "stdout",
     "output_type": "stream",
     "text": [
      "              precision    recall  f1-score   support\n",
      "\n",
      "           0       0.56      0.81      0.67        27\n",
      "           1       0.60      0.69      0.64        13\n",
      "           2       1.00      0.70      0.82        10\n",
      "           3       0.89      1.00      0.94        17\n",
      "           4       0.62      0.65      0.64        23\n",
      "           5       1.00      1.00      1.00      1622\n",
      "           6       0.91      0.78      0.84        89\n",
      "           7       0.67      1.00      0.80         2\n",
      "\n",
      "    accuracy                           0.98      1803\n",
      "   macro avg       0.78      0.83      0.79      1803\n",
      "weighted avg       0.98      0.98      0.98      1803\n",
      "\n"
     ]
    }
   ],
   "source": [
    "print(classification_report(y_test, y_pred))"
   ]
  },
  {
   "cell_type": "code",
   "execution_count": 98,
   "id": "c72913f6",
   "metadata": {},
   "outputs": [
    {
     "name": "stdout",
     "output_type": "stream",
     "text": [
      "accuracy 0.9767054908485857\n"
     ]
    }
   ],
   "source": [
    "print('accuracy %s' % accuracy_score(y_pred, y_test))"
   ]
  },
  {
   "cell_type": "code",
   "execution_count": 99,
   "id": "66571eae",
   "metadata": {},
   "outputs": [
    {
     "name": "stdout",
     "output_type": "stream",
     "text": [
      "Normalized confusion matrix\n"
     ]
    },
    {
     "data": {
      "image/png": "[encoded data removed]",
      "text/plain": [
       "<Figure size 432x432 with 1 Axes>"
      ]
     },
     "metadata": {
      "needs_background": "light"
     },
     "output_type": "display_data"
    }
   ],
   "source": [
    "fig = plt.figure()\n",
    "fig.set_size_inches(6, 6, forward=True)\n",
    "fig.align_labels()\n",
    "\n",
    "plot_confusion_matrix(confusion_matrix(y_test, y_pred), normalize=True,\n",
    "                      title='Confusion matrix', classes= le.inverse_transform([0,1,2,3,4,5,6]))\n",
    "fig.show()"
   ]
  },
  {
   "cell_type": "code",
   "execution_count": 100,
   "id": "124821ad",
   "metadata": {},
   "outputs": [
    {
     "data": {
      "image/png": "[encoded data removed]",
      "text/plain": [
       "<Figure size 1728x864 with 1 Axes>"
      ]
     },
     "metadata": {
      "needs_background": "light"
     },
     "output_type": "display_data"
    }
   ],
   "source": [
    "importances = rf.feature_importances_\n",
    "indices = np.argsort(importances)[::-1]\n",
    "names = [X_col_names[i] for i in indices]\n",
    "plt.figure(figsize=(24,12))\n",
    "plt.title(\"Importances\")\n",
    "plt.bar(range(X_train.shape[1]), importances[indices])\n",
    "plt.xticks(range(X_train.shape[1]), names, rotation=90)\n",
    "plt.savefig(\"RF_features.png\")"
   ]
  },
  {
   "cell_type": "code",
   "execution_count": null,
   "id": "345900d2",
   "metadata": {},
   "outputs": [],
   "source": [
    "# Testing Single Prediction"
   ]
  },
  {
   "cell_type": "code",
   "execution_count": 101,
   "id": "5507cbf8",
   "metadata": {},
   "outputs": [],
   "source": [
    "data_single_pred = {'Src Port':[57159],\n",
    "                    'Dst Port':[443],\n",
    "                    'FWD Init Win Bytes': [1987],\n",
    "                   # 'Flow Packets/s':[4914.005],\n",
    "                    'Flow Duration':[61152761] ,\n",
    "                    'Fwd Seg Size Min':[32],\n",
    "                    'Bwd Init Win Bytes':[33],\n",
    "                    'FIN Flag Count':[1],\n",
    "                    'Label':[0] ,\n",
    "                    'Total Fwd Packet':[10],\n",
    "                     'Flow IAT Mean':[2912036.238],\n",
    "                    'Total Bwd packets':[12],\n",
    "                   'Flow Bytes/s':[103.2659834],\n",
    "                    'Packet Length Mean':[274.5652174],\n",
    "                    'Total Length of Fwd Packet':[598],\n",
    "                    'Fwd Packet Length Mean':[59.8],\n",
    "                    'Down/Up Ratio':[1],\n",
    "                    'Fwd IAT Std':[150298.159],\n",
    "                    'Packet Length Variance':[244016.3478]\n",
    "                   }"
   ]
  },
  {
   "cell_type": "code",
   "execution_count": 102,
   "id": "7e9e6487",
   "metadata": {},
   "outputs": [],
   "source": [
    "test_pred = pd.DataFrame.from_dict(data_single_pred)"
   ]
  },
  {
   "cell_type": "code",
   "execution_count": 103,
   "id": "d5e21e93",
   "metadata": {},
   "outputs": [],
   "source": [
    "X_test_single=np.array(test_pred)\n",
    "y_pred=rf.predict(X_test_single)"
   ]
  },
  {
   "cell_type": "code",
   "execution_count": 104,
   "id": "a2f98790",
   "metadata": {},
   "outputs": [
    {
     "name": "stdout",
     "output_type": "stream",
     "text": [
      "[7]\n"
     ]
    }
   ],
   "source": [
    "print(y_pred)"
   ]
  },
  {
   "cell_type": "code",
   "execution_count": 105,
   "id": "619141b0",
   "metadata": {},
   "outputs": [
    {
     "data": {
      "text/plain": [
       "['AUDIO-STREAMING',\n",
       " 'BROWSING',\n",
       " 'CHAT',\n",
       " 'EMAIL',\n",
       " 'FILE-TRANSFER',\n",
       " 'P2P',\n",
       " 'VIDEO-STREAMING',\n",
       " 'VOIP']"
      ]
     },
     "execution_count": 105,
     "metadata": {},
     "output_type": "execute_result"
    }
   ],
   "source": [
    "list(le.classes_)"
   ]
  },
  {
   "cell_type": "code",
   "execution_count": 106,
   "id": "35cd9c49",
   "metadata": {},
   "outputs": [],
   "source": [
    "data_single_pred_2 = {'Src Port':[59286],\n",
    "                    'Dst Port':[53],\n",
    "                    'FWD Init Win Bytes': [0],\n",
    "                   # 'Flow Packets/s':[4914.005],\n",
    "                    'Flow Duration':[329654] ,\n",
    "                    'Fwd Seg Size Min':[8],\n",
    "                    'Bwd Init Win Bytes':[0],\n",
    "                    'FIN Flag Count':[0],\n",
    "                    'Label':[0] ,\n",
    "                    'Total Fwd Packet':[2],\n",
    "                     'Flow IAT Mean':[109884.6667],\n",
    "                    'Total Bwd packets':[2],\n",
    "                   'Flow Bytes/s':[606.6967184],\n",
    "                    'Packet Length Mean':[47.8],\n",
    "                    'Total Length of Fwd Packet':[78],\n",
    "                    'Fwd Packet Length Mean':[39],\n",
    "                    'Down/Up Ratio':[1],\n",
    "                    'Fwd IAT Std':[0],\n",
    "                    'Packet Length Variance':[163.2]\n",
    "                   }"
   ]
  },
  {
   "cell_type": "code",
   "execution_count": 107,
   "id": "b547c0f4",
   "metadata": {},
   "outputs": [],
   "source": [
    "test_pred_2 = pd.DataFrame.from_dict(data_single_pred)"
   ]
  },
  {
   "cell_type": "code",
   "execution_count": 108,
   "id": "47670922",
   "metadata": {},
   "outputs": [],
   "source": [
    "X_test_single_2=np.array(test_pred_2)\n",
    "y_pred_2=rf.predict(X_test_single_2)"
   ]
  },
  {
   "cell_type": "code",
   "execution_count": 109,
   "id": "3d805053",
   "metadata": {},
   "outputs": [
    {
     "name": "stdout",
     "output_type": "stream",
     "text": [
      "[7]\n"
     ]
    }
   ],
   "source": [
    "print(y_pred_2)"
   ]
  }
 ],
 "metadata": {
  "kernelspec": {
   "display_name": "Python 3 (ipykernel)",
   "language": "python",
   "name": "python3"
  },
  "language_info": {
   "codemirror_mode": {
    "name": "ipython",
    "version": 3
   },
   "file_extension": ".py",
   "mimetype": "text/x-python",
   "name": "python",
   "nbconvert_exporter": "python",
   "pygments_lexer": "ipython3",
   "version": "3.9.12"
  }
 },
 "nbformat": 4,
 "nbformat_minor": 5
}
